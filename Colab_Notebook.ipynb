{
  "cells": [
    {
      "cell_type": "code",
      "execution_count": null,
      "metadata": {
        "colab": {
          "base_uri": "https://localhost:8080/"
        },
        "id": "b7Nl_VLHJtM3",
        "outputId": "5cebba65-398c-4674-ef4b-4374443305fd"
      },
      "outputs": [
        {
          "output_type": "stream",
          "name": "stdout",
          "text": [
            "Mounted at /content/drive/\n"
          ]
        }
      ],
      "source": [
        "from google.colab import drive\n",
        "drive.mount('/content/drive/')"
      ]
    },
    {
      "cell_type": "markdown",
      "metadata": {
        "id": "_x6B60jSh2D-"
      },
      "source": [
        "# In this project we are supposed to predict the sentiment of a given tweet,\n",
        "#And predict if it is positive, negative or neutral in nature."
      ]
    },
    {
      "cell_type": "markdown",
      "metadata": {
        "id": "6DfPOaFahyU-"
      },
      "source": [
        "**Importing necessary libraries**"
      ]
    },
    {
      "cell_type": "code",
      "execution_count": null,
      "metadata": {
        "id": "MzB7-0U-x4fs"
      },
      "outputs": [],
      "source": [
        "import pandas as pd\n",
        "import numpy as np\n",
        "import matplotlib.cm as cm\n",
        "import matplotlib.pyplot as plt\n",
        "from matplotlib import rcParams\n",
        "%matplotlib inline\n",
        "import warnings\n",
        "warnings.filterwarnings('ignore')"
      ]
    },
    {
      "cell_type": "code",
      "execution_count": null,
      "metadata": {
        "id": "fzRCOWf-ydXu"
      },
      "outputs": [],
      "source": [
        "import sys\n",
        "sys.path.append('/content/drive/MyDrive/nlp/')\n",
        "\n",
        "import re\n",
        "import nltk\n",
        "import string\n",
        "import nlp_utils\n",
        "import collections\n",
        "import contractions\n",
        "import nlp_utils as nu\n",
        "from collections import Counter\n",
        "from nltk.corpus import stopwords\n",
        "from nltk.stem import WordNetLemmatizer\n",
        "from wordcloud import WordCloud, STOPWORDS\n",
        "from nltk.tokenize import word_tokenize,sent_tokenize\n",
        "from sklearn.feature_extraction.text import TfidfVectorizer\n",
        "from nltk.stem import PorterStemmer, LancasterStemmer, SnowballStemmer"
      ]
    },
    {
      "cell_type": "code",
      "execution_count": null,
      "metadata": {
        "id": "5BjIJsnWy4_F"
      },
      "outputs": [],
      "source": [
        "from sklearn.preprocessing import LabelEncoder\n",
        "from sklearn.model_selection import train_test_split\n",
        "from sklearn.linear_model import LogisticRegression\n",
        "from sklearn.metrics import accuracy_score"
      ]
    },
    {
      "cell_type": "markdown",
      "metadata": {
        "id": "1ejVMqWwiJ6a"
      },
      "source": [
        "**Enabling and testing the GPU**"
      ]
    },
    {
      "cell_type": "code",
      "execution_count": null,
      "metadata": {
        "colab": {
          "base_uri": "https://localhost:8080/"
        },
        "id": "CVza3iRrhcN2",
        "outputId": "69aca6ba-f560-4721-c436-0b0225b0e32a"
      },
      "outputs": [
        {
          "output_type": "stream",
          "name": "stdout",
          "text": [
            "Found GPU at: /device:GPU:0\n"
          ]
        }
      ],
      "source": [
        "%tensorflow_version 2.x\n",
        "import tensorflow as tf\n",
        "device_name = tf.test.gpu_device_name()\n",
        "if device_name != '/device:GPU:0':\n",
        "  raise SystemError('GPU device not found')\n",
        "print('Found GPU at: {}'.format(device_name))"
      ]
    },
    {
      "cell_type": "code",
      "execution_count": null,
      "metadata": {
        "colab": {
          "base_uri": "https://localhost:8080/"
        },
        "id": "Q2TBBgCQhjnX",
        "outputId": "b4004b3d-f970-4098-aa68-1652804efd20"
      },
      "outputs": [
        {
          "output_type": "stream",
          "name": "stdout",
          "text": [
            "Time (s) to convolve 32x7x7x3 filter over random 100x100x100x3 images (batch x height x width x channel). Sum of ten runs.\n",
            "CPU (s):\n",
            "1.478020767000089\n",
            "GPU (s):\n",
            "0.03826372399998945\n",
            "GPU speedup over CPU: 38x\n"
          ]
        }
      ],
      "source": [
        "%tensorflow_version 2.x\n",
        "import tensorflow as tf\n",
        "import timeit\n",
        "\n",
        "device_name = tf.test.gpu_device_name()\n",
        "if device_name != '/device:GPU:0':\n",
        "  print(\n",
        "      '\\n\\nThis error most likely means that this notebook is not '\n",
        "      'configured to use a GPU.  Change this in Notebook Settings via the '\n",
        "      'command palette (cmd/ctrl-shift-P) or the Edit menu.\\n\\n')\n",
        "  raise SystemError('GPU device not found')\n",
        "\n",
        "def cpu():\n",
        "  with tf.device('/cpu:0'):\n",
        "    random_image_cpu = tf.random.normal((100, 100, 100, 3))\n",
        "    net_cpu = tf.keras.layers.Conv2D(32, 7)(random_image_cpu)\n",
        "    return tf.math.reduce_sum(net_cpu)\n",
        "\n",
        "def gpu():\n",
        "  with tf.device('/device:GPU:0'):\n",
        "    random_image_gpu = tf.random.normal((100, 100, 100, 3))\n",
        "    net_gpu = tf.keras.layers.Conv2D(32, 7)(random_image_gpu)\n",
        "    return tf.math.reduce_sum(net_gpu)\n",
        "  \n",
        "# We run each op once to warm up; see: https://stackoverflow.com/a/45067900\n",
        "cpu()\n",
        "gpu()\n",
        "\n",
        "# Run the op several times.\n",
        "print('Time (s) to convolve 32x7x7x3 filter over random 100x100x100x3 images '\n",
        "      '(batch x height x width x channel). Sum of ten runs.')\n",
        "print('CPU (s):')\n",
        "cpu_time = timeit.timeit('cpu()', number=10, setup=\"from __main__ import cpu\")\n",
        "print(cpu_time)\n",
        "print('GPU (s):')\n",
        "gpu_time = timeit.timeit('gpu()', number=10, setup=\"from __main__ import gpu\")\n",
        "print(gpu_time)\n",
        "print('GPU speedup over CPU: {}x'.format(int(cpu_time/gpu_time)))"
      ]
    },
    {
      "cell_type": "markdown",
      "metadata": {
        "id": "j-vWERn8iBpH"
      },
      "source": [
        "**Loading data**"
      ]
    },
    {
      "cell_type": "code",
      "execution_count": null,
      "metadata": {
        "id": "sQHcKecczmJV"
      },
      "outputs": [],
      "source": [
        "with open('/content/drive/MyDrive/nlp/75kTweets.csv',encoding='UTF-8',mode='r') as f:\n",
        "    text = f.read()"
      ]
    },
    {
      "cell_type": "code",
      "execution_count": null,
      "metadata": {
        "id": "1RR3GnICKwwA"
      },
      "outputs": [],
      "source": [
        "#text"
      ]
    },
    {
      "cell_type": "markdown",
      "metadata": {
        "id": "jwHYLPBXlI5x"
      },
      "source": [
        "# Text Normalization"
      ]
    },
    {
      "cell_type": "markdown",
      "metadata": {
        "id": "NaITOfBylMjg"
      },
      "source": [
        "### Text normalization is the process of transforming a text into a canonical (standard) form. For example, the word “gooood” and “gud” can be transformed to “good”, its canonical form. Another example is mapping of near identical words such as “stopwords”, “stop-words” and “stop words” to just “stopwords”"
      ]
    },
    {
      "cell_type": "code",
      "execution_count": null,
      "metadata": {
        "id": "Pk7d9tGolNPw"
      },
      "outputs": [],
      "source": [
        "# splitting at ( \\n ).\n",
        "text=text.split('\\n')\n",
        "#text\n",
        "# Separating at new line using '\\n'"
      ]
    },
    {
      "cell_type": "code",
      "execution_count": null,
      "metadata": {
        "id": "G15BCM_Flarx"
      },
      "outputs": [],
      "source": [
        "# splitting at ( \\t ).\n",
        "corpus = [text]\n",
        "for sent in text:\n",
        "    corpus.append(sent.split('\\t'))\n",
        "# Splitting String by tab(\\t)   "
      ]
    },
    {
      "cell_type": "code",
      "execution_count": null,
      "metadata": {
        "id": "TeriShOWlfqi"
      },
      "outputs": [],
      "source": [
        "letters_only = re.sub(r'[^a-zA-Z]',  \n",
        "                          \" \",          \n",
        "                          str(corpus))\n",
        "# Taking only letters"
      ]
    },
    {
      "cell_type": "markdown",
      "metadata": {
        "id": "dbXPRn0qloNh"
      },
      "source": [
        "### Tokenization\n"
      ]
    },
    {
      "cell_type": "markdown",
      "metadata": {
        "id": "-LeE-JS8lsOq"
      },
      "source": [
        "What is Tokenization? Tokenization is the process by which big quantity of text is divided into smaller parts called tokens.\n",
        "\n",
        "Natural language processing is used for building applications such as Text classification, intelligent chatbot, sentimental analysis, language translation, etc. It becomes vital to understand the pattern in the text to achieve the above-stated purpose. These tokens are very useful for finding such patterns as well as is considered as a base step for stemming and lemmatization.\n",
        "\n",
        "Sentence tokenization is the process of splitting text into individual sentences. It does this by looking for the types of textual constructs that confuse the tokenizer and replacing them with single words."
      ]
    },
    {
      "cell_type": "code",
      "execution_count": null,
      "metadata": {
        "colab": {
          "base_uri": "https://localhost:8080/"
        },
        "id": "epPtdgfRlsp5",
        "outputId": "56650cb7-9698-4d3e-be97-842e5380b822"
      },
      "outputs": [
        {
          "output_type": "stream",
          "name": "stdout",
          "text": [
            "[nltk_data] Downloading package punkt to /root/nltk_data...\n",
            "[nltk_data]   Unzipping tokenizers/punkt.zip.\n"
          ]
        }
      ],
      "source": [
        "nltk.download('punkt')\n",
        "\n",
        "# converting to lowercase.\n",
        "letters_only=letters_only.lower()\n",
        "\n",
        "token=nltk.sent_tokenize(letters_only)"
      ]
    },
    {
      "cell_type": "markdown",
      "metadata": {
        "id": "6d56x0AKmk1x"
      },
      "source": [
        "### Alphanumeric characters"
      ]
    },
    {
      "cell_type": "code",
      "execution_count": null,
      "metadata": {
        "id": "O4aGQ_dfmlWQ"
      },
      "outputs": [],
      "source": [
        "def num_dec_al(word):\n",
        "    if word.isnumeric():\n",
        "        return 'xxxxxx'\n",
        "    elif word.isdecimal():\n",
        "        return 'xxx...'\n",
        "    elif word.isalpha():\n",
        "        return word\n",
        "    else:\n",
        "        return 'xxxaaa'\n",
        "\n",
        "def clean_nda(token):\n",
        "    tokens = nlp_utils.w_tokenization(token)\n",
        "    map_list = list(map(num_dec_al,tokens))\n",
        "    return \" \".join(map_list)\n",
        "\n",
        "corpus_nda = list(map(clean_nda,token))\n",
        "### Alpha numeric characters and decimals have been replaced with characters"
      ]
    },
    {
      "cell_type": "markdown",
      "metadata": {
        "id": "lBUZiyyAouNA"
      },
      "source": [
        "### Removing Contractions.\n",
        "It is a process where words like isn't, didn't are expanded to is not, did not. "
      ]
    },
    {
      "cell_type": "code",
      "execution_count": null,
      "metadata": {
        "id": "s14jr54wou-B"
      },
      "outputs": [],
      "source": [
        "conm = contractions.CONTRACTION_MAP\n",
        "def contraction_remove(corpus_nda):\n",
        "    for key,value in conm.items():\n",
        "        corpus_nda = re.sub(r\"{}\".format(key),'{}'.format(value),corpus_nda)\n",
        "        \n",
        "    return corpus_nda\n",
        "\n",
        "special = string.punctuation\n",
        "def w_tokenization(corpus_nda):\n",
        "    # convert into lower case\n",
        "    corpus_nda = corpus_nda.lower()\n",
        "    # contraction\n",
        "    corpus_nda = contraction_remove(corpus_nda)\n",
        "    # \n",
        "    tokens = nltk.word_tokenize(corpus_nda) # word tokens\n",
        "## contractions have been expanded and the letters have been converted to lowercase.    "
      ]
    },
    {
      "cell_type": "code",
      "execution_count": null,
      "metadata": {
        "id": "EWv65ltQo1gK"
      },
      "outputs": [],
      "source": [
        "#corpus_nda\n",
        "## corpus_nda with expanded contractions and converted to lowercase.    "
      ]
    },
    {
      "cell_type": "code",
      "execution_count": null,
      "metadata": {
        "id": "e5gduMT_o30h"
      },
      "outputs": [],
      "source": [
        "data = [corpus_nda]\n",
        "for sent in text:\n",
        "    data.append(sent.split('\\t'))\n",
        "# Separating at tab     "
      ]
    },
    {
      "cell_type": "code",
      "execution_count": null,
      "metadata": {
        "id": "a4KxfxgRo65X"
      },
      "outputs": [],
      "source": [
        "data.append(sent.split('\\n'))\n",
        "# Separating at newline"
      ]
    },
    {
      "cell_type": "code",
      "execution_count": null,
      "metadata": {
        "id": "g22FwjWoo8ux"
      },
      "outputs": [],
      "source": [
        "#data\n",
        "# Cleaned text"
      ]
    },
    {
      "cell_type": "code",
      "execution_count": null,
      "metadata": {
        "id": "IKnP8mnio_aJ"
      },
      "outputs": [],
      "source": [
        "df = pd.DataFrame(data)\n",
        "## Saving the data into a dataframe."
      ]
    },
    {
      "cell_type": "code",
      "execution_count": null,
      "metadata": {
        "colab": {
          "base_uri": "https://localhost:8080/",
          "height": 423
        },
        "id": "N33ZR6eXpJkS",
        "outputId": "e5150746-2052-4116-f0d3-9e17be670f34"
      },
      "outputs": [
        {
          "output_type": "execute_result",
          "data": {
            "text/plain": [
              "                                                       0\n",
              "0      now that free speech has finally been restored...\n",
              "1      ,\"Now that free speech has finally been restor...\n",
              "2      0,\"@GovAbbott let’s bring Twitter to Texas pos...\n",
              "3      1,\"@mmmm_oranges If Elon Musk takes over Twitt...\n",
              "4      2,\"@elonmusk now that twitter is yours can I p...\n",
              "...                                                  ...\n",
              "75537  75535,@sassyrightwing @Twitter @elonmusk The f...\n",
              "75538  75536,\"@Rombbb_Gaming @Twitter @elonmusk i'm n...\n",
              "75539  75537,\"@KarenJoyJones22 @hawki1551 @AlastairMc...\n",
              "75540                                                   \n",
              "75541                                                   \n",
              "\n",
              "[75542 rows x 1 columns]"
            ],
            "text/html": [
              "\n",
              "  <div id=\"df-c400d4b6-6820-4803-925a-777781a9c22d\">\n",
              "    <div class=\"colab-df-container\">\n",
              "      <div>\n",
              "<style scoped>\n",
              "    .dataframe tbody tr th:only-of-type {\n",
              "        vertical-align: middle;\n",
              "    }\n",
              "\n",
              "    .dataframe tbody tr th {\n",
              "        vertical-align: top;\n",
              "    }\n",
              "\n",
              "    .dataframe thead th {\n",
              "        text-align: right;\n",
              "    }\n",
              "</style>\n",
              "<table border=\"1\" class=\"dataframe\">\n",
              "  <thead>\n",
              "    <tr style=\"text-align: right;\">\n",
              "      <th></th>\n",
              "      <th>0</th>\n",
              "    </tr>\n",
              "  </thead>\n",
              "  <tbody>\n",
              "    <tr>\n",
              "      <th>0</th>\n",
              "      <td>now that free speech has finally been restored...</td>\n",
              "    </tr>\n",
              "    <tr>\n",
              "      <th>1</th>\n",
              "      <td>,\"Now that free speech has finally been restor...</td>\n",
              "    </tr>\n",
              "    <tr>\n",
              "      <th>2</th>\n",
              "      <td>0,\"@GovAbbott let’s bring Twitter to Texas pos...</td>\n",
              "    </tr>\n",
              "    <tr>\n",
              "      <th>3</th>\n",
              "      <td>1,\"@mmmm_oranges If Elon Musk takes over Twitt...</td>\n",
              "    </tr>\n",
              "    <tr>\n",
              "      <th>4</th>\n",
              "      <td>2,\"@elonmusk now that twitter is yours can I p...</td>\n",
              "    </tr>\n",
              "    <tr>\n",
              "      <th>...</th>\n",
              "      <td>...</td>\n",
              "    </tr>\n",
              "    <tr>\n",
              "      <th>75537</th>\n",
              "      <td>75535,@sassyrightwing @Twitter @elonmusk The f...</td>\n",
              "    </tr>\n",
              "    <tr>\n",
              "      <th>75538</th>\n",
              "      <td>75536,\"@Rombbb_Gaming @Twitter @elonmusk i'm n...</td>\n",
              "    </tr>\n",
              "    <tr>\n",
              "      <th>75539</th>\n",
              "      <td>75537,\"@KarenJoyJones22 @hawki1551 @AlastairMc...</td>\n",
              "    </tr>\n",
              "    <tr>\n",
              "      <th>75540</th>\n",
              "      <td></td>\n",
              "    </tr>\n",
              "    <tr>\n",
              "      <th>75541</th>\n",
              "      <td></td>\n",
              "    </tr>\n",
              "  </tbody>\n",
              "</table>\n",
              "<p>75542 rows × 1 columns</p>\n",
              "</div>\n",
              "      <button class=\"colab-df-convert\" onclick=\"convertToInteractive('df-c400d4b6-6820-4803-925a-777781a9c22d')\"\n",
              "              title=\"Convert this dataframe to an interactive table.\"\n",
              "              style=\"display:none;\">\n",
              "        \n",
              "  <svg xmlns=\"http://www.w3.org/2000/svg\" height=\"24px\"viewBox=\"0 0 24 24\"\n",
              "       width=\"24px\">\n",
              "    <path d=\"M0 0h24v24H0V0z\" fill=\"none\"/>\n",
              "    <path d=\"M18.56 5.44l.94 2.06.94-2.06 2.06-.94-2.06-.94-.94-2.06-.94 2.06-2.06.94zm-11 1L8.5 8.5l.94-2.06 2.06-.94-2.06-.94L8.5 2.5l-.94 2.06-2.06.94zm10 10l.94 2.06.94-2.06 2.06-.94-2.06-.94-.94-2.06-.94 2.06-2.06.94z\"/><path d=\"M17.41 7.96l-1.37-1.37c-.4-.4-.92-.59-1.43-.59-.52 0-1.04.2-1.43.59L10.3 9.45l-7.72 7.72c-.78.78-.78 2.05 0 2.83L4 21.41c.39.39.9.59 1.41.59.51 0 1.02-.2 1.41-.59l7.78-7.78 2.81-2.81c.8-.78.8-2.07 0-2.86zM5.41 20L4 18.59l7.72-7.72 1.47 1.35L5.41 20z\"/>\n",
              "  </svg>\n",
              "      </button>\n",
              "      \n",
              "  <style>\n",
              "    .colab-df-container {\n",
              "      display:flex;\n",
              "      flex-wrap:wrap;\n",
              "      gap: 12px;\n",
              "    }\n",
              "\n",
              "    .colab-df-convert {\n",
              "      background-color: #E8F0FE;\n",
              "      border: none;\n",
              "      border-radius: 50%;\n",
              "      cursor: pointer;\n",
              "      display: none;\n",
              "      fill: #1967D2;\n",
              "      height: 32px;\n",
              "      padding: 0 0 0 0;\n",
              "      width: 32px;\n",
              "    }\n",
              "\n",
              "    .colab-df-convert:hover {\n",
              "      background-color: #E2EBFA;\n",
              "      box-shadow: 0px 1px 2px rgba(60, 64, 67, 0.3), 0px 1px 3px 1px rgba(60, 64, 67, 0.15);\n",
              "      fill: #174EA6;\n",
              "    }\n",
              "\n",
              "    [theme=dark] .colab-df-convert {\n",
              "      background-color: #3B4455;\n",
              "      fill: #D2E3FC;\n",
              "    }\n",
              "\n",
              "    [theme=dark] .colab-df-convert:hover {\n",
              "      background-color: #434B5C;\n",
              "      box-shadow: 0px 1px 3px 1px rgba(0, 0, 0, 0.15);\n",
              "      filter: drop-shadow(0px 1px 2px rgba(0, 0, 0, 0.3));\n",
              "      fill: #FFFFFF;\n",
              "    }\n",
              "  </style>\n",
              "\n",
              "      <script>\n",
              "        const buttonEl =\n",
              "          document.querySelector('#df-c400d4b6-6820-4803-925a-777781a9c22d button.colab-df-convert');\n",
              "        buttonEl.style.display =\n",
              "          google.colab.kernel.accessAllowed ? 'block' : 'none';\n",
              "\n",
              "        async function convertToInteractive(key) {\n",
              "          const element = document.querySelector('#df-c400d4b6-6820-4803-925a-777781a9c22d');\n",
              "          const dataTable =\n",
              "            await google.colab.kernel.invokeFunction('convertToInteractive',\n",
              "                                                     [key], {});\n",
              "          if (!dataTable) return;\n",
              "\n",
              "          const docLinkHtml = 'Like what you see? Visit the ' +\n",
              "            '<a target=\"_blank\" href=https://colab.research.google.com/notebooks/data_table.ipynb>data table notebook</a>'\n",
              "            + ' to learn more about interactive tables.';\n",
              "          element.innerHTML = '';\n",
              "          dataTable['output_type'] = 'display_data';\n",
              "          await google.colab.output.renderOutput(dataTable, element);\n",
              "          const docLink = document.createElement('div');\n",
              "          docLink.innerHTML = docLinkHtml;\n",
              "          element.appendChild(docLink);\n",
              "        }\n",
              "      </script>\n",
              "    </div>\n",
              "  </div>\n",
              "  "
            ]
          },
          "metadata": {},
          "execution_count": 20
        }
      ],
      "source": [
        "df"
      ]
    },
    {
      "cell_type": "code",
      "execution_count": null,
      "metadata": {
        "colab": {
          "base_uri": "https://localhost:8080/",
          "height": 423
        },
        "id": "a7HENiyopLcU",
        "outputId": "2b85d42c-14c9-45a7-fe22-2ddbca3f4eee"
      },
      "outputs": [
        {
          "output_type": "execute_result",
          "data": {
            "text/plain": [
              "                                                    Text\n",
              "0      now that free speech has finally been restored...\n",
              "1      ,\"Now that free speech has finally been restor...\n",
              "2      0,\"@GovAbbott let’s bring Twitter to Texas pos...\n",
              "3      1,\"@mmmm_oranges If Elon Musk takes over Twitt...\n",
              "4      2,\"@elonmusk now that twitter is yours can I p...\n",
              "...                                                  ...\n",
              "75537  75535,@sassyrightwing @Twitter @elonmusk The f...\n",
              "75538  75536,\"@Rombbb_Gaming @Twitter @elonmusk i'm n...\n",
              "75539  75537,\"@KarenJoyJones22 @hawki1551 @AlastairMc...\n",
              "75540                                                   \n",
              "75541                                                   \n",
              "\n",
              "[75542 rows x 1 columns]"
            ],
            "text/html": [
              "\n",
              "  <div id=\"df-60efbf9b-e035-479a-9550-df68f0959fd3\">\n",
              "    <div class=\"colab-df-container\">\n",
              "      <div>\n",
              "<style scoped>\n",
              "    .dataframe tbody tr th:only-of-type {\n",
              "        vertical-align: middle;\n",
              "    }\n",
              "\n",
              "    .dataframe tbody tr th {\n",
              "        vertical-align: top;\n",
              "    }\n",
              "\n",
              "    .dataframe thead th {\n",
              "        text-align: right;\n",
              "    }\n",
              "</style>\n",
              "<table border=\"1\" class=\"dataframe\">\n",
              "  <thead>\n",
              "    <tr style=\"text-align: right;\">\n",
              "      <th></th>\n",
              "      <th>Text</th>\n",
              "    </tr>\n",
              "  </thead>\n",
              "  <tbody>\n",
              "    <tr>\n",
              "      <th>0</th>\n",
              "      <td>now that free speech has finally been restored...</td>\n",
              "    </tr>\n",
              "    <tr>\n",
              "      <th>1</th>\n",
              "      <td>,\"Now that free speech has finally been restor...</td>\n",
              "    </tr>\n",
              "    <tr>\n",
              "      <th>2</th>\n",
              "      <td>0,\"@GovAbbott let’s bring Twitter to Texas pos...</td>\n",
              "    </tr>\n",
              "    <tr>\n",
              "      <th>3</th>\n",
              "      <td>1,\"@mmmm_oranges If Elon Musk takes over Twitt...</td>\n",
              "    </tr>\n",
              "    <tr>\n",
              "      <th>4</th>\n",
              "      <td>2,\"@elonmusk now that twitter is yours can I p...</td>\n",
              "    </tr>\n",
              "    <tr>\n",
              "      <th>...</th>\n",
              "      <td>...</td>\n",
              "    </tr>\n",
              "    <tr>\n",
              "      <th>75537</th>\n",
              "      <td>75535,@sassyrightwing @Twitter @elonmusk The f...</td>\n",
              "    </tr>\n",
              "    <tr>\n",
              "      <th>75538</th>\n",
              "      <td>75536,\"@Rombbb_Gaming @Twitter @elonmusk i'm n...</td>\n",
              "    </tr>\n",
              "    <tr>\n",
              "      <th>75539</th>\n",
              "      <td>75537,\"@KarenJoyJones22 @hawki1551 @AlastairMc...</td>\n",
              "    </tr>\n",
              "    <tr>\n",
              "      <th>75540</th>\n",
              "      <td></td>\n",
              "    </tr>\n",
              "    <tr>\n",
              "      <th>75541</th>\n",
              "      <td></td>\n",
              "    </tr>\n",
              "  </tbody>\n",
              "</table>\n",
              "<p>75542 rows × 1 columns</p>\n",
              "</div>\n",
              "      <button class=\"colab-df-convert\" onclick=\"convertToInteractive('df-60efbf9b-e035-479a-9550-df68f0959fd3')\"\n",
              "              title=\"Convert this dataframe to an interactive table.\"\n",
              "              style=\"display:none;\">\n",
              "        \n",
              "  <svg xmlns=\"http://www.w3.org/2000/svg\" height=\"24px\"viewBox=\"0 0 24 24\"\n",
              "       width=\"24px\">\n",
              "    <path d=\"M0 0h24v24H0V0z\" fill=\"none\"/>\n",
              "    <path d=\"M18.56 5.44l.94 2.06.94-2.06 2.06-.94-2.06-.94-.94-2.06-.94 2.06-2.06.94zm-11 1L8.5 8.5l.94-2.06 2.06-.94-2.06-.94L8.5 2.5l-.94 2.06-2.06.94zm10 10l.94 2.06.94-2.06 2.06-.94-2.06-.94-.94-2.06-.94 2.06-2.06.94z\"/><path d=\"M17.41 7.96l-1.37-1.37c-.4-.4-.92-.59-1.43-.59-.52 0-1.04.2-1.43.59L10.3 9.45l-7.72 7.72c-.78.78-.78 2.05 0 2.83L4 21.41c.39.39.9.59 1.41.59.51 0 1.02-.2 1.41-.59l7.78-7.78 2.81-2.81c.8-.78.8-2.07 0-2.86zM5.41 20L4 18.59l7.72-7.72 1.47 1.35L5.41 20z\"/>\n",
              "  </svg>\n",
              "      </button>\n",
              "      \n",
              "  <style>\n",
              "    .colab-df-container {\n",
              "      display:flex;\n",
              "      flex-wrap:wrap;\n",
              "      gap: 12px;\n",
              "    }\n",
              "\n",
              "    .colab-df-convert {\n",
              "      background-color: #E8F0FE;\n",
              "      border: none;\n",
              "      border-radius: 50%;\n",
              "      cursor: pointer;\n",
              "      display: none;\n",
              "      fill: #1967D2;\n",
              "      height: 32px;\n",
              "      padding: 0 0 0 0;\n",
              "      width: 32px;\n",
              "    }\n",
              "\n",
              "    .colab-df-convert:hover {\n",
              "      background-color: #E2EBFA;\n",
              "      box-shadow: 0px 1px 2px rgba(60, 64, 67, 0.3), 0px 1px 3px 1px rgba(60, 64, 67, 0.15);\n",
              "      fill: #174EA6;\n",
              "    }\n",
              "\n",
              "    [theme=dark] .colab-df-convert {\n",
              "      background-color: #3B4455;\n",
              "      fill: #D2E3FC;\n",
              "    }\n",
              "\n",
              "    [theme=dark] .colab-df-convert:hover {\n",
              "      background-color: #434B5C;\n",
              "      box-shadow: 0px 1px 3px 1px rgba(0, 0, 0, 0.15);\n",
              "      filter: drop-shadow(0px 1px 2px rgba(0, 0, 0, 0.3));\n",
              "      fill: #FFFFFF;\n",
              "    }\n",
              "  </style>\n",
              "\n",
              "      <script>\n",
              "        const buttonEl =\n",
              "          document.querySelector('#df-60efbf9b-e035-479a-9550-df68f0959fd3 button.colab-df-convert');\n",
              "        buttonEl.style.display =\n",
              "          google.colab.kernel.accessAllowed ? 'block' : 'none';\n",
              "\n",
              "        async function convertToInteractive(key) {\n",
              "          const element = document.querySelector('#df-60efbf9b-e035-479a-9550-df68f0959fd3');\n",
              "          const dataTable =\n",
              "            await google.colab.kernel.invokeFunction('convertToInteractive',\n",
              "                                                     [key], {});\n",
              "          if (!dataTable) return;\n",
              "\n",
              "          const docLinkHtml = 'Like what you see? Visit the ' +\n",
              "            '<a target=\"_blank\" href=https://colab.research.google.com/notebooks/data_table.ipynb>data table notebook</a>'\n",
              "            + ' to learn more about interactive tables.';\n",
              "          element.innerHTML = '';\n",
              "          dataTable['output_type'] = 'display_data';\n",
              "          await google.colab.output.renderOutput(dataTable, element);\n",
              "          const docLink = document.createElement('div');\n",
              "          docLink.innerHTML = docLinkHtml;\n",
              "          element.appendChild(docLink);\n",
              "        }\n",
              "      </script>\n",
              "    </div>\n",
              "  </div>\n",
              "  "
            ]
          },
          "metadata": {},
          "execution_count": 21
        }
      ],
      "source": [
        "df= df.rename(columns={0: 'Text'})\n",
        "# Renaming the column 0 as 'Text'\n",
        "df"
      ]
    },
    {
      "cell_type": "code",
      "execution_count": null,
      "metadata": {
        "colab": {
          "base_uri": "https://localhost:8080/",
          "height": 423
        },
        "id": "Obif1o_tVi9x",
        "outputId": "5f0092d6-46b5-4c19-bb55-d46de909a783"
      },
      "outputs": [
        {
          "output_type": "execute_result",
          "data": {
            "text/plain": [
              "                                                    Text\n",
              "0      ,\"Now that free speech has finally been restor...\n",
              "1      0,\"@GovAbbott let’s bring Twitter to Texas pos...\n",
              "2      1,\"@mmmm_oranges If Elon Musk takes over Twitt...\n",
              "3      2,\"@elonmusk now that twitter is yours can I p...\n",
              "4      3,\"@DerpFighter @cenkuygur @elonmusk @Twitter ...\n",
              "...                                                  ...\n",
              "75534  75533,With Elon Musk buying twitter I better g...\n",
              "75535  75534,\"@washingtonpost @elonmusk  Elon Musk bo...\n",
              "75536  75535,@sassyrightwing @Twitter @elonmusk The f...\n",
              "75537  75536,\"@Rombbb_Gaming @Twitter @elonmusk i'm n...\n",
              "75538  75537,\"@KarenJoyJones22 @hawki1551 @AlastairMc...\n",
              "\n",
              "[75539 rows x 1 columns]"
            ],
            "text/html": [
              "\n",
              "  <div id=\"df-a4546d11-c0e0-4b6f-9e97-2ce9e549a297\">\n",
              "    <div class=\"colab-df-container\">\n",
              "      <div>\n",
              "<style scoped>\n",
              "    .dataframe tbody tr th:only-of-type {\n",
              "        vertical-align: middle;\n",
              "    }\n",
              "\n",
              "    .dataframe tbody tr th {\n",
              "        vertical-align: top;\n",
              "    }\n",
              "\n",
              "    .dataframe thead th {\n",
              "        text-align: right;\n",
              "    }\n",
              "</style>\n",
              "<table border=\"1\" class=\"dataframe\">\n",
              "  <thead>\n",
              "    <tr style=\"text-align: right;\">\n",
              "      <th></th>\n",
              "      <th>Text</th>\n",
              "    </tr>\n",
              "  </thead>\n",
              "  <tbody>\n",
              "    <tr>\n",
              "      <th>0</th>\n",
              "      <td>,\"Now that free speech has finally been restor...</td>\n",
              "    </tr>\n",
              "    <tr>\n",
              "      <th>1</th>\n",
              "      <td>0,\"@GovAbbott let’s bring Twitter to Texas pos...</td>\n",
              "    </tr>\n",
              "    <tr>\n",
              "      <th>2</th>\n",
              "      <td>1,\"@mmmm_oranges If Elon Musk takes over Twitt...</td>\n",
              "    </tr>\n",
              "    <tr>\n",
              "      <th>3</th>\n",
              "      <td>2,\"@elonmusk now that twitter is yours can I p...</td>\n",
              "    </tr>\n",
              "    <tr>\n",
              "      <th>4</th>\n",
              "      <td>3,\"@DerpFighter @cenkuygur @elonmusk @Twitter ...</td>\n",
              "    </tr>\n",
              "    <tr>\n",
              "      <th>...</th>\n",
              "      <td>...</td>\n",
              "    </tr>\n",
              "    <tr>\n",
              "      <th>75534</th>\n",
              "      <td>75533,With Elon Musk buying twitter I better g...</td>\n",
              "    </tr>\n",
              "    <tr>\n",
              "      <th>75535</th>\n",
              "      <td>75534,\"@washingtonpost @elonmusk  Elon Musk bo...</td>\n",
              "    </tr>\n",
              "    <tr>\n",
              "      <th>75536</th>\n",
              "      <td>75535,@sassyrightwing @Twitter @elonmusk The f...</td>\n",
              "    </tr>\n",
              "    <tr>\n",
              "      <th>75537</th>\n",
              "      <td>75536,\"@Rombbb_Gaming @Twitter @elonmusk i'm n...</td>\n",
              "    </tr>\n",
              "    <tr>\n",
              "      <th>75538</th>\n",
              "      <td>75537,\"@KarenJoyJones22 @hawki1551 @AlastairMc...</td>\n",
              "    </tr>\n",
              "  </tbody>\n",
              "</table>\n",
              "<p>75539 rows × 1 columns</p>\n",
              "</div>\n",
              "      <button class=\"colab-df-convert\" onclick=\"convertToInteractive('df-a4546d11-c0e0-4b6f-9e97-2ce9e549a297')\"\n",
              "              title=\"Convert this dataframe to an interactive table.\"\n",
              "              style=\"display:none;\">\n",
              "        \n",
              "  <svg xmlns=\"http://www.w3.org/2000/svg\" height=\"24px\"viewBox=\"0 0 24 24\"\n",
              "       width=\"24px\">\n",
              "    <path d=\"M0 0h24v24H0V0z\" fill=\"none\"/>\n",
              "    <path d=\"M18.56 5.44l.94 2.06.94-2.06 2.06-.94-2.06-.94-.94-2.06-.94 2.06-2.06.94zm-11 1L8.5 8.5l.94-2.06 2.06-.94-2.06-.94L8.5 2.5l-.94 2.06-2.06.94zm10 10l.94 2.06.94-2.06 2.06-.94-2.06-.94-.94-2.06-.94 2.06-2.06.94z\"/><path d=\"M17.41 7.96l-1.37-1.37c-.4-.4-.92-.59-1.43-.59-.52 0-1.04.2-1.43.59L10.3 9.45l-7.72 7.72c-.78.78-.78 2.05 0 2.83L4 21.41c.39.39.9.59 1.41.59.51 0 1.02-.2 1.41-.59l7.78-7.78 2.81-2.81c.8-.78.8-2.07 0-2.86zM5.41 20L4 18.59l7.72-7.72 1.47 1.35L5.41 20z\"/>\n",
              "  </svg>\n",
              "      </button>\n",
              "      \n",
              "  <style>\n",
              "    .colab-df-container {\n",
              "      display:flex;\n",
              "      flex-wrap:wrap;\n",
              "      gap: 12px;\n",
              "    }\n",
              "\n",
              "    .colab-df-convert {\n",
              "      background-color: #E8F0FE;\n",
              "      border: none;\n",
              "      border-radius: 50%;\n",
              "      cursor: pointer;\n",
              "      display: none;\n",
              "      fill: #1967D2;\n",
              "      height: 32px;\n",
              "      padding: 0 0 0 0;\n",
              "      width: 32px;\n",
              "    }\n",
              "\n",
              "    .colab-df-convert:hover {\n",
              "      background-color: #E2EBFA;\n",
              "      box-shadow: 0px 1px 2px rgba(60, 64, 67, 0.3), 0px 1px 3px 1px rgba(60, 64, 67, 0.15);\n",
              "      fill: #174EA6;\n",
              "    }\n",
              "\n",
              "    [theme=dark] .colab-df-convert {\n",
              "      background-color: #3B4455;\n",
              "      fill: #D2E3FC;\n",
              "    }\n",
              "\n",
              "    [theme=dark] .colab-df-convert:hover {\n",
              "      background-color: #434B5C;\n",
              "      box-shadow: 0px 1px 3px 1px rgba(0, 0, 0, 0.15);\n",
              "      filter: drop-shadow(0px 1px 2px rgba(0, 0, 0, 0.3));\n",
              "      fill: #FFFFFF;\n",
              "    }\n",
              "  </style>\n",
              "\n",
              "      <script>\n",
              "        const buttonEl =\n",
              "          document.querySelector('#df-a4546d11-c0e0-4b6f-9e97-2ce9e549a297 button.colab-df-convert');\n",
              "        buttonEl.style.display =\n",
              "          google.colab.kernel.accessAllowed ? 'block' : 'none';\n",
              "\n",
              "        async function convertToInteractive(key) {\n",
              "          const element = document.querySelector('#df-a4546d11-c0e0-4b6f-9e97-2ce9e549a297');\n",
              "          const dataTable =\n",
              "            await google.colab.kernel.invokeFunction('convertToInteractive',\n",
              "                                                     [key], {});\n",
              "          if (!dataTable) return;\n",
              "\n",
              "          const docLinkHtml = 'Like what you see? Visit the ' +\n",
              "            '<a target=\"_blank\" href=https://colab.research.google.com/notebooks/data_table.ipynb>data table notebook</a>'\n",
              "            + ' to learn more about interactive tables.';\n",
              "          element.innerHTML = '';\n",
              "          dataTable['output_type'] = 'display_data';\n",
              "          await google.colab.output.renderOutput(dataTable, element);\n",
              "          const docLink = document.createElement('div');\n",
              "          docLink.innerHTML = docLinkHtml;\n",
              "          element.appendChild(docLink);\n",
              "        }\n",
              "      </script>\n",
              "    </div>\n",
              "  </div>\n",
              "  "
            ]
          },
          "metadata": {},
          "execution_count": 22
        }
      ],
      "source": [
        "df=df.drop(df.index[0])\n",
        "\n",
        "df.drop_duplicates(subset=['Text'])\n",
        "\n",
        "df['Text'].replace('', np.nan, inplace=True)\n",
        "df = df.dropna()\n",
        "\n",
        "df = df.reset_index(drop=True)\n",
        "\n",
        "df\n",
        "#final dataset"
      ]
    },
    {
      "cell_type": "markdown",
      "metadata": {
        "id": "S5WsErDbpVC0"
      },
      "source": [
        "### Removing additional characters present in the dataframe."
      ]
    },
    {
      "cell_type": "code",
      "execution_count": null,
      "metadata": {
        "id": "NeWqcsOApVk5"
      },
      "outputs": [],
      "source": [
        "## We can further see that there are still some special characters in the dataframe which have to be treated.\n",
        "df.replace('\\d+', '', regex=True, inplace=True)\n",
        "df.replace(',', '', regex=True, inplace=True)\n",
        "df.replace('br', '', regex=True, inplace=True)\n",
        "df.replace('\"', '', regex=True, inplace=True)\n",
        "df.replace(\"'\", '', regex=True, inplace=True)\n",
        "df.replace('?', '', inplace=True)\n",
        "df.replace(\"-\", '', regex=True, inplace=True)\n",
        "df.replace(\"*\", '', inplace=True)\n",
        "df.replace(\"***\", '', inplace=True)\n",
        "df.replace(\"< />\", '', regex=True, inplace=True)"
      ]
    },
    {
      "cell_type": "code",
      "execution_count": null,
      "metadata": {
        "id": "5PAo1ri6pX8i"
      },
      "outputs": [],
      "source": [
        "df['Text'] = df['Text'].str.strip('[')\n",
        "df['Text'] = df['Text'].str.strip(']')\n",
        "df['Text'] = df['Text'].str.strip(')')\n",
        "df['Text'] = df['Text'].str.strip('(')\n",
        "## Using the strip function in order to delete the special characters."
      ]
    },
    {
      "cell_type": "code",
      "execution_count": null,
      "metadata": {
        "colab": {
          "base_uri": "https://localhost:8080/",
          "height": 423
        },
        "id": "6fB55WT_papy",
        "outputId": "c3d9aaf3-38e2-4aa0-d947-cc39edfcdd03"
      },
      "outputs": [
        {
          "data": {
            "text/html": [
              "\n",
              "  <div id=\"df-260f2e2a-8489-485a-9ad9-47610481d7f0\">\n",
              "    <div class=\"colab-df-container\">\n",
              "      <div>\n",
              "<style scoped>\n",
              "    .dataframe tbody tr th:only-of-type {\n",
              "        vertical-align: middle;\n",
              "    }\n",
              "\n",
              "    .dataframe tbody tr th {\n",
              "        vertical-align: top;\n",
              "    }\n",
              "\n",
              "    .dataframe thead th {\n",
              "        text-align: right;\n",
              "    }\n",
              "</style>\n",
              "<table border=\"1\" class=\"dataframe\">\n",
              "  <thead>\n",
              "    <tr style=\"text-align: right;\">\n",
              "      <th></th>\n",
              "      <th>Text</th>\n",
              "    </tr>\n",
              "  </thead>\n",
              "  <tbody>\n",
              "    <tr>\n",
              "      <th>0</th>\n",
              "      <td>Now that free speech has finally been restored...</td>\n",
              "    </tr>\n",
              "    <tr>\n",
              "      <th>1</th>\n",
              "      <td>@GovAbbott let’s ing Twitter to Texas possible...</td>\n",
              "    </tr>\n",
              "    <tr>\n",
              "      <th>2</th>\n",
              "      <td>@mmmm_oranges If Elon Musk takes over Twitter ...</td>\n",
              "    </tr>\n",
              "    <tr>\n",
              "      <th>3</th>\n",
              "      <td>@elonmusk now that twitter is yours can I post...</td>\n",
              "    </tr>\n",
              "    <tr>\n",
              "      <th>4</th>\n",
              "      <td>@DerpFighter @cenkuygur @elonmusk @Twitter  ht...</td>\n",
              "    </tr>\n",
              "    <tr>\n",
              "      <th>...</th>\n",
              "      <td>...</td>\n",
              "    </tr>\n",
              "    <tr>\n",
              "      <th>75534</th>\n",
              "      <td>With Elon Musk buying twitter I better get my ...</td>\n",
              "    </tr>\n",
              "    <tr>\n",
              "      <th>75535</th>\n",
              "      <td>@washingtonpost @elonmusk  Elon Musk bought Tw...</td>\n",
              "    </tr>\n",
              "    <tr>\n",
              "      <th>75536</th>\n",
              "      <td>@sassyrightwing @Twitter @elonmusk The filters...</td>\n",
              "    </tr>\n",
              "    <tr>\n",
              "      <th>75537</th>\n",
              "      <td>@Rombbb_Gaming @Twitter @elonmusk im not sure ...</td>\n",
              "    </tr>\n",
              "    <tr>\n",
              "      <th>75538</th>\n",
              "      <td>@KarenJoyJones @hawki @AlastairMcA @Twitter @e...</td>\n",
              "    </tr>\n",
              "  </tbody>\n",
              "</table>\n",
              "<p>75539 rows × 1 columns</p>\n",
              "</div>\n",
              "      <button class=\"colab-df-convert\" onclick=\"convertToInteractive('df-260f2e2a-8489-485a-9ad9-47610481d7f0')\"\n",
              "              title=\"Convert this dataframe to an interactive table.\"\n",
              "              style=\"display:none;\">\n",
              "        \n",
              "  <svg xmlns=\"http://www.w3.org/2000/svg\" height=\"24px\"viewBox=\"0 0 24 24\"\n",
              "       width=\"24px\">\n",
              "    <path d=\"M0 0h24v24H0V0z\" fill=\"none\"/>\n",
              "    <path d=\"M18.56 5.44l.94 2.06.94-2.06 2.06-.94-2.06-.94-.94-2.06-.94 2.06-2.06.94zm-11 1L8.5 8.5l.94-2.06 2.06-.94-2.06-.94L8.5 2.5l-.94 2.06-2.06.94zm10 10l.94 2.06.94-2.06 2.06-.94-2.06-.94-.94-2.06-.94 2.06-2.06.94z\"/><path d=\"M17.41 7.96l-1.37-1.37c-.4-.4-.92-.59-1.43-.59-.52 0-1.04.2-1.43.59L10.3 9.45l-7.72 7.72c-.78.78-.78 2.05 0 2.83L4 21.41c.39.39.9.59 1.41.59.51 0 1.02-.2 1.41-.59l7.78-7.78 2.81-2.81c.8-.78.8-2.07 0-2.86zM5.41 20L4 18.59l7.72-7.72 1.47 1.35L5.41 20z\"/>\n",
              "  </svg>\n",
              "      </button>\n",
              "      \n",
              "  <style>\n",
              "    .colab-df-container {\n",
              "      display:flex;\n",
              "      flex-wrap:wrap;\n",
              "      gap: 12px;\n",
              "    }\n",
              "\n",
              "    .colab-df-convert {\n",
              "      background-color: #E8F0FE;\n",
              "      border: none;\n",
              "      border-radius: 50%;\n",
              "      cursor: pointer;\n",
              "      display: none;\n",
              "      fill: #1967D2;\n",
              "      height: 32px;\n",
              "      padding: 0 0 0 0;\n",
              "      width: 32px;\n",
              "    }\n",
              "\n",
              "    .colab-df-convert:hover {\n",
              "      background-color: #E2EBFA;\n",
              "      box-shadow: 0px 1px 2px rgba(60, 64, 67, 0.3), 0px 1px 3px 1px rgba(60, 64, 67, 0.15);\n",
              "      fill: #174EA6;\n",
              "    }\n",
              "\n",
              "    [theme=dark] .colab-df-convert {\n",
              "      background-color: #3B4455;\n",
              "      fill: #D2E3FC;\n",
              "    }\n",
              "\n",
              "    [theme=dark] .colab-df-convert:hover {\n",
              "      background-color: #434B5C;\n",
              "      box-shadow: 0px 1px 3px 1px rgba(0, 0, 0, 0.15);\n",
              "      filter: drop-shadow(0px 1px 2px rgba(0, 0, 0, 0.3));\n",
              "      fill: #FFFFFF;\n",
              "    }\n",
              "  </style>\n",
              "\n",
              "      <script>\n",
              "        const buttonEl =\n",
              "          document.querySelector('#df-260f2e2a-8489-485a-9ad9-47610481d7f0 button.colab-df-convert');\n",
              "        buttonEl.style.display =\n",
              "          google.colab.kernel.accessAllowed ? 'block' : 'none';\n",
              "\n",
              "        async function convertToInteractive(key) {\n",
              "          const element = document.querySelector('#df-260f2e2a-8489-485a-9ad9-47610481d7f0');\n",
              "          const dataTable =\n",
              "            await google.colab.kernel.invokeFunction('convertToInteractive',\n",
              "                                                     [key], {});\n",
              "          if (!dataTable) return;\n",
              "\n",
              "          const docLinkHtml = 'Like what you see? Visit the ' +\n",
              "            '<a target=\"_blank\" href=https://colab.research.google.com/notebooks/data_table.ipynb>data table notebook</a>'\n",
              "            + ' to learn more about interactive tables.';\n",
              "          element.innerHTML = '';\n",
              "          dataTable['output_type'] = 'display_data';\n",
              "          await google.colab.output.renderOutput(dataTable, element);\n",
              "          const docLink = document.createElement('div');\n",
              "          docLink.innerHTML = docLinkHtml;\n",
              "          element.appendChild(docLink);\n",
              "        }\n",
              "      </script>\n",
              "    </div>\n",
              "  </div>\n",
              "  "
            ],
            "text/plain": [
              "                                                    Text\n",
              "0      Now that free speech has finally been restored...\n",
              "1      @GovAbbott let’s ing Twitter to Texas possible...\n",
              "2      @mmmm_oranges If Elon Musk takes over Twitter ...\n",
              "3      @elonmusk now that twitter is yours can I post...\n",
              "4      @DerpFighter @cenkuygur @elonmusk @Twitter  ht...\n",
              "...                                                  ...\n",
              "75534  With Elon Musk buying twitter I better get my ...\n",
              "75535  @washingtonpost @elonmusk  Elon Musk bought Tw...\n",
              "75536  @sassyrightwing @Twitter @elonmusk The filters...\n",
              "75537  @Rombbb_Gaming @Twitter @elonmusk im not sure ...\n",
              "75538  @KarenJoyJones @hawki @AlastairMcA @Twitter @e...\n",
              "\n",
              "[75539 rows x 1 columns]"
            ]
          },
          "execution_count": 25,
          "metadata": {},
          "output_type": "execute_result"
        }
      ],
      "source": [
        "df"
      ]
    },
    {
      "cell_type": "markdown",
      "metadata": {
        "id": "SEmJdMRUpfCm"
      },
      "source": [
        "## Lemmatization of the text column"
      ]
    },
    {
      "cell_type": "markdown",
      "metadata": {
        "id": "9FG-KQWnpjqk"
      },
      "source": [
        "Lemmatization usually refers to doing things properly with the use of a vocabulary and morphological analysis of words, normally aiming to remove inflectional endings only and to return the base or dictionary form of a word, which is known as the lemma.\n",
        "Lemmatization will generate the root form of the inflected words"
      ]
    },
    {
      "cell_type": "code",
      "execution_count": null,
      "metadata": {
        "colab": {
          "base_uri": "https://localhost:8080/"
        },
        "id": "-F7WuEAnpsAZ",
        "outputId": "6e3b25e8-4122-4ed5-b952-b7a46ec7eddf"
      },
      "outputs": [
        {
          "name": "stdout",
          "output_type": "stream",
          "text": [
            "[nltk_data] Downloading package averaged_perceptron_tagger to\n",
            "[nltk_data]     /root/nltk_data...\n",
            "[nltk_data]   Package averaged_perceptron_tagger is already up-to-\n",
            "[nltk_data]       date!\n",
            "[nltk_data] Downloading package wordnet to /root/nltk_data...\n",
            "[nltk_data]   Package wordnet is already up-to-date!\n"
          ]
        },
        {
          "data": {
            "text/plain": [
              "True"
            ]
          },
          "execution_count": 26,
          "metadata": {},
          "output_type": "execute_result"
        }
      ],
      "source": [
        "nltk.download('averaged_perceptron_tagger')\n",
        "nltk.download('wordnet')"
      ]
    },
    {
      "cell_type": "code",
      "execution_count": null,
      "metadata": {
        "colab": {
          "base_uri": "https://localhost:8080/"
        },
        "id": "f_UrglpMpkHR",
        "outputId": "259d3be6-09af-4329-efbc-8fcf9501f5c2"
      },
      "outputs": [
        {
          "name": "stdout",
          "output_type": "stream",
          "text": [
            "Looking in indexes: https://pypi.org/simple, https://us-python.pkg.dev/colab-wheels/public/simple/\n",
            "Requirement already satisfied: swifter in /usr/local/lib/python3.7/dist-packages (1.1.3)\n",
            "Requirement already satisfied: tqdm>=4.33.0 in /usr/local/lib/python3.7/dist-packages (from swifter) (4.64.0)\n",
            "Requirement already satisfied: parso>0.4.0 in /usr/local/lib/python3.7/dist-packages (from swifter) (0.8.3)\n",
            "Requirement already satisfied: pandas>=1.0.0 in /usr/local/lib/python3.7/dist-packages (from swifter) (1.3.5)\n",
            "Requirement already satisfied: dask[dataframe]>=2.10.0 in /usr/local/lib/python3.7/dist-packages (from swifter) (2.12.0)\n",
            "Requirement already satisfied: bleach>=3.1.1 in /usr/local/lib/python3.7/dist-packages (from swifter) (5.0.0)\n",
            "Requirement already satisfied: ipywidgets>=7.0.0 in /usr/local/lib/python3.7/dist-packages (from swifter) (7.7.0)\n",
            "Requirement already satisfied: psutil>=5.6.6 in /usr/local/lib/python3.7/dist-packages (from swifter) (5.9.1)\n",
            "Requirement already satisfied: cloudpickle>=0.2.2 in /usr/local/lib/python3.7/dist-packages (from swifter) (1.3.0)\n",
            "Requirement already satisfied: webencodings in /usr/local/lib/python3.7/dist-packages (from bleach>=3.1.1->swifter) (0.5.1)\n",
            "Requirement already satisfied: six>=1.9.0 in /usr/local/lib/python3.7/dist-packages (from bleach>=3.1.1->swifter) (1.15.0)\n",
            "Requirement already satisfied: partd>=0.3.10 in /usr/local/lib/python3.7/dist-packages (from dask[dataframe]>=2.10.0->swifter) (1.2.0)\n",
            "Requirement already satisfied: numpy>=1.13.0 in /usr/local/lib/python3.7/dist-packages (from dask[dataframe]>=2.10.0->swifter) (1.21.6)\n",
            "Requirement already satisfied: fsspec>=0.6.0 in /usr/local/lib/python3.7/dist-packages (from dask[dataframe]>=2.10.0->swifter) (2022.5.0)\n",
            "Requirement already satisfied: toolz>=0.7.3 in /usr/local/lib/python3.7/dist-packages (from dask[dataframe]>=2.10.0->swifter) (0.11.2)\n",
            "Requirement already satisfied: traitlets>=4.3.1 in /usr/local/lib/python3.7/dist-packages (from ipywidgets>=7.0.0->swifter) (5.1.1)\n",
            "Requirement already satisfied: widgetsnbextension~=3.6.0 in /usr/local/lib/python3.7/dist-packages (from ipywidgets>=7.0.0->swifter) (3.6.0)\n",
            "Requirement already satisfied: ipykernel>=4.5.1 in /usr/local/lib/python3.7/dist-packages (from ipywidgets>=7.0.0->swifter) (4.10.1)\n",
            "Requirement already satisfied: ipython>=4.0.0 in /usr/local/lib/python3.7/dist-packages (from ipywidgets>=7.0.0->swifter) (5.5.0)\n",
            "Requirement already satisfied: ipython-genutils~=0.2.0 in /usr/local/lib/python3.7/dist-packages (from ipywidgets>=7.0.0->swifter) (0.2.0)\n",
            "Requirement already satisfied: jupyterlab-widgets>=1.0.0 in /usr/local/lib/python3.7/dist-packages (from ipywidgets>=7.0.0->swifter) (1.1.0)\n",
            "Requirement already satisfied: nbformat>=4.2.0 in /usr/local/lib/python3.7/dist-packages (from ipywidgets>=7.0.0->swifter) (5.4.0)\n",
            "Requirement already satisfied: jupyter-client in /usr/local/lib/python3.7/dist-packages (from ipykernel>=4.5.1->ipywidgets>=7.0.0->swifter) (5.3.5)\n",
            "Requirement already satisfied: tornado>=4.0 in /usr/local/lib/python3.7/dist-packages (from ipykernel>=4.5.1->ipywidgets>=7.0.0->swifter) (5.1.1)\n",
            "Requirement already satisfied: prompt-toolkit<2.0.0,>=1.0.4 in /usr/local/lib/python3.7/dist-packages (from ipython>=4.0.0->ipywidgets>=7.0.0->swifter) (1.0.18)\n",
            "Requirement already satisfied: pexpect in /usr/local/lib/python3.7/dist-packages (from ipython>=4.0.0->ipywidgets>=7.0.0->swifter) (4.8.0)\n",
            "Requirement already satisfied: decorator in /usr/local/lib/python3.7/dist-packages (from ipython>=4.0.0->ipywidgets>=7.0.0->swifter) (4.4.2)\n",
            "Requirement already satisfied: pygments in /usr/local/lib/python3.7/dist-packages (from ipython>=4.0.0->ipywidgets>=7.0.0->swifter) (2.6.1)\n",
            "Requirement already satisfied: setuptools>=18.5 in /usr/local/lib/python3.7/dist-packages (from ipython>=4.0.0->ipywidgets>=7.0.0->swifter) (57.4.0)\n",
            "Requirement already satisfied: pickleshare in /usr/local/lib/python3.7/dist-packages (from ipython>=4.0.0->ipywidgets>=7.0.0->swifter) (0.7.5)\n",
            "Requirement already satisfied: simplegeneric>0.8 in /usr/local/lib/python3.7/dist-packages (from ipython>=4.0.0->ipywidgets>=7.0.0->swifter) (0.8.1)\n",
            "Requirement already satisfied: jsonschema>=2.6 in /usr/local/lib/python3.7/dist-packages (from nbformat>=4.2.0->ipywidgets>=7.0.0->swifter) (4.3.3)\n",
            "Requirement already satisfied: fastjsonschema in /usr/local/lib/python3.7/dist-packages (from nbformat>=4.2.0->ipywidgets>=7.0.0->swifter) (2.15.3)\n",
            "Requirement already satisfied: jupyter-core in /usr/local/lib/python3.7/dist-packages (from nbformat>=4.2.0->ipywidgets>=7.0.0->swifter) (4.10.0)\n",
            "Requirement already satisfied: importlib-metadata in /usr/local/lib/python3.7/dist-packages (from jsonschema>=2.6->nbformat>=4.2.0->ipywidgets>=7.0.0->swifter) (4.11.4)\n",
            "Requirement already satisfied: attrs>=17.4.0 in /usr/local/lib/python3.7/dist-packages (from jsonschema>=2.6->nbformat>=4.2.0->ipywidgets>=7.0.0->swifter) (21.4.0)\n",
            "Requirement already satisfied: typing-extensions in /usr/local/lib/python3.7/dist-packages (from jsonschema>=2.6->nbformat>=4.2.0->ipywidgets>=7.0.0->swifter) (4.2.0)\n",
            "Requirement already satisfied: importlib-resources>=1.4.0 in /usr/local/lib/python3.7/dist-packages (from jsonschema>=2.6->nbformat>=4.2.0->ipywidgets>=7.0.0->swifter) (5.7.1)\n",
            "Requirement already satisfied: pyrsistent!=0.17.0,!=0.17.1,!=0.17.2,>=0.14.0 in /usr/local/lib/python3.7/dist-packages (from jsonschema>=2.6->nbformat>=4.2.0->ipywidgets>=7.0.0->swifter) (0.18.1)\n",
            "Requirement already satisfied: zipp>=3.1.0 in /usr/local/lib/python3.7/dist-packages (from importlib-resources>=1.4.0->jsonschema>=2.6->nbformat>=4.2.0->ipywidgets>=7.0.0->swifter) (3.8.0)\n",
            "Requirement already satisfied: pytz>=2017.3 in /usr/local/lib/python3.7/dist-packages (from pandas>=1.0.0->swifter) (2022.1)\n",
            "Requirement already satisfied: python-dateutil>=2.7.3 in /usr/local/lib/python3.7/dist-packages (from pandas>=1.0.0->swifter) (2.8.2)\n",
            "Requirement already satisfied: locket in /usr/local/lib/python3.7/dist-packages (from partd>=0.3.10->dask[dataframe]>=2.10.0->swifter) (1.0.0)\n",
            "Requirement already satisfied: wcwidth in /usr/local/lib/python3.7/dist-packages (from prompt-toolkit<2.0.0,>=1.0.4->ipython>=4.0.0->ipywidgets>=7.0.0->swifter) (0.2.5)\n",
            "Requirement already satisfied: notebook>=4.4.1 in /usr/local/lib/python3.7/dist-packages (from widgetsnbextension~=3.6.0->ipywidgets>=7.0.0->swifter) (5.3.1)\n",
            "Requirement already satisfied: terminado>=0.8.1 in /usr/local/lib/python3.7/dist-packages (from notebook>=4.4.1->widgetsnbextension~=3.6.0->ipywidgets>=7.0.0->swifter) (0.13.3)\n",
            "Requirement already satisfied: Send2Trash in /usr/local/lib/python3.7/dist-packages (from notebook>=4.4.1->widgetsnbextension~=3.6.0->ipywidgets>=7.0.0->swifter) (1.8.0)\n",
            "Requirement already satisfied: nbconvert in /usr/local/lib/python3.7/dist-packages (from notebook>=4.4.1->widgetsnbextension~=3.6.0->ipywidgets>=7.0.0->swifter) (5.6.1)\n",
            "Requirement already satisfied: jinja2 in /usr/local/lib/python3.7/dist-packages (from notebook>=4.4.1->widgetsnbextension~=3.6.0->ipywidgets>=7.0.0->swifter) (2.11.3)\n",
            "Requirement already satisfied: pyzmq>=13 in /usr/local/lib/python3.7/dist-packages (from jupyter-client->ipykernel>=4.5.1->ipywidgets>=7.0.0->swifter) (23.0.0)\n",
            "Requirement already satisfied: ptyprocess in /usr/local/lib/python3.7/dist-packages (from terminado>=0.8.1->notebook>=4.4.1->widgetsnbextension~=3.6.0->ipywidgets>=7.0.0->swifter) (0.7.0)\n",
            "Requirement already satisfied: MarkupSafe>=0.23 in /usr/local/lib/python3.7/dist-packages (from jinja2->notebook>=4.4.1->widgetsnbextension~=3.6.0->ipywidgets>=7.0.0->swifter) (2.0.1)\n",
            "Requirement already satisfied: testpath in /usr/local/lib/python3.7/dist-packages (from nbconvert->notebook>=4.4.1->widgetsnbextension~=3.6.0->ipywidgets>=7.0.0->swifter) (0.6.0)\n",
            "Requirement already satisfied: pandocfilters>=1.4.1 in /usr/local/lib/python3.7/dist-packages (from nbconvert->notebook>=4.4.1->widgetsnbextension~=3.6.0->ipywidgets>=7.0.0->swifter) (1.5.0)\n",
            "Requirement already satisfied: mistune<2,>=0.8.1 in /usr/local/lib/python3.7/dist-packages (from nbconvert->notebook>=4.4.1->widgetsnbextension~=3.6.0->ipywidgets>=7.0.0->swifter) (0.8.4)\n",
            "Requirement already satisfied: entrypoints>=0.2.2 in /usr/local/lib/python3.7/dist-packages (from nbconvert->notebook>=4.4.1->widgetsnbextension~=3.6.0->ipywidgets>=7.0.0->swifter) (0.4)\n",
            "Requirement already satisfied: defusedxml in /usr/local/lib/python3.7/dist-packages (from nbconvert->notebook>=4.4.1->widgetsnbextension~=3.6.0->ipywidgets>=7.0.0->swifter) (0.7.1)\n"
          ]
        }
      ],
      "source": [
        "pip install swifter"
      ]
    },
    {
      "cell_type": "code",
      "execution_count": null,
      "metadata": {
        "colab": {
          "background_save": true,
          "base_uri": "https://localhost:8080/",
          "height": 49,
          "referenced_widgets": [
            "03eabe1fc81d449e9b2ab9550f8836e2"
          ]
        },
        "id": "DBBvAJpcUwb0",
        "outputId": "a6d5bb94-cfb8-4ee8-d6b9-0be04cbae388"
      },
      "outputs": [
        {
          "data": {
            "application/vnd.jupyter.widget-view+json": {
              "model_id": "03eabe1fc81d449e9b2ab9550f8836e2",
              "version_major": 2,
              "version_minor": 0
            },
            "text/plain": [
              "Pandas Apply:   0%|          | 0/75542 [00:00<?, ?it/s]"
            ]
          },
          "metadata": {},
          "output_type": "display_data"
        }
      ],
      "source": [
        "#df['Text'] = df['Text'].apply(nu.lemmatization_sentence)\n",
        "\n",
        "import swifter\n",
        "## A package which efficiently applies any function to a pandas dataframe or series in the fastest available manner \n",
        "\n",
        "df['Text'] = df['Text'].swifter.apply(nu.lemmatization_sentence)"
      ]
    },
    {
      "cell_type": "code",
      "execution_count": null,
      "metadata": {
        "colab": {
          "background_save": true
        },
        "id": "XNJMFwSbsXt6"
      },
      "outputs": [],
      "source": [
        "Text=df['Text']"
      ]
    },
    {
      "cell_type": "code",
      "execution_count": null,
      "metadata": {
        "colab": {
          "background_save": true
        },
        "id": "A4reyCvpsYXC"
      },
      "outputs": [],
      "source": [
        "token=Text.to_numpy()\n",
        "## to_numpy() function is used to convert the given series or dataframe object to Numpy-array representation."
      ]
    },
    {
      "cell_type": "code",
      "execution_count": null,
      "metadata": {
        "colab": {
          "background_save": true
        },
        "id": "m2oyJa9ysa1C"
      },
      "outputs": [],
      "source": [
        "token=nltk.sent_tokenize(str(token))\n",
        "## Sentence tokenization"
      ]
    },
    {
      "cell_type": "code",
      "execution_count": null,
      "metadata": {
        "colab": {
          "background_save": true
        },
        "id": "rbsCeFc1sdmC"
      },
      "outputs": [],
      "source": [
        "data = np.array(token)\n",
        "## Saving token in form of array"
      ]
    },
    {
      "cell_type": "code",
      "execution_count": null,
      "metadata": {
        "colab": {
          "background_save": true,
          "base_uri": "https://localhost:8080/"
        },
        "id": "RL6hFSigs1lt",
        "outputId": "c9ce529f-08d5-463c-9e10-8b833811d193"
      },
      "outputs": [
        {
          "name": "stdout",
          "output_type": "stream",
          "text": [
            "[nltk_data] Downloading package stopwords to /root/nltk_data...\n",
            "[nltk_data]   Package stopwords is already up-to-date!\n"
          ]
        },
        {
          "data": {
            "text/plain": [
              "True"
            ]
          },
          "execution_count": null,
          "metadata": {},
          "output_type": "execute_result"
        }
      ],
      "source": [
        "nltk.download('stopwords')"
      ]
    },
    {
      "cell_type": "code",
      "execution_count": null,
      "metadata": {
        "colab": {
          "background_save": true
        },
        "id": "KisQwn5Tsxku"
      },
      "outputs": [],
      "source": [
        "stop = stopwords.words('english')\n",
        "## Saving stopwords in stop"
      ]
    },
    {
      "cell_type": "markdown",
      "metadata": {
        "id": "9sHFaerFtMym"
      },
      "source": [
        "### Removing stopwords from the dataframe"
      ]
    },
    {
      "cell_type": "code",
      "execution_count": null,
      "metadata": {
        "colab": {
          "background_save": true
        },
        "id": "WvXt900ts5jf"
      },
      "outputs": [],
      "source": [
        "text = data\n",
        "text_tokens = word_tokenize(str(text))\n",
        "\n",
        "tokens_without_sw = [word for word in text_tokens if not word in stop]\n",
        "\n",
        "#print(tokens_without_sw)   \n",
        "## Removing stopwords from the text and printing the words without stopwords"
      ]
    },
    {
      "cell_type": "markdown",
      "metadata": {
        "id": "JFGzZ9PdteOE"
      },
      "source": [
        "# Visualization"
      ]
    },
    {
      "cell_type": "code",
      "execution_count": null,
      "metadata": {
        "colab": {
          "background_save": true
        },
        "id": "PuoV4PJCtNXq"
      },
      "outputs": [],
      "source": [
        "stopwords = set(stopwords.words(\"english\"))\n",
        "## Removing stopwords for wordcloud visualization"
      ]
    },
    {
      "cell_type": "code",
      "execution_count": null,
      "metadata": {
        "colab": {
          "background_save": true
        },
        "id": "S27XCejltnPF"
      },
      "outputs": [],
      "source": [
        "wordcloud = WordCloud(stopwords=stop, background_color=\"white\", max_words=1000).generate(str(tokens_without_sw))\n",
        "## WordCloud is a technique to show which words are the most frequent among the given text"
      ]
    },
    {
      "cell_type": "markdown",
      "metadata": {
        "id": "d4eiES6RtsQ6"
      },
      "source": [
        "### Visualizing the highest repeating words in the dataframe using  the wordcloud."
      ]
    },
    {
      "cell_type": "code",
      "execution_count": null,
      "metadata": {
        "colab": {
          "background_save": true,
          "base_uri": "https://localhost:8080/",
          "height": 310
        },
        "id": "1c1PcnGQttJS",
        "outputId": "e59830c7-7de7-4fa9-95ca-f35c05f32f5c"
      },
      "outputs": [
        {
          "data": {
            "image/png": "[encoded data removed]",
            "text/plain": [
              "<Figure size 720x1440 with 1 Axes>"
            ]
          },
          "metadata": {},
          "output_type": "display_data"
        }
      ],
      "source": [
        "rcParams['figure.figsize'] = 10, 20\n",
        "plt.imshow(wordcloud)\n",
        "plt.axis(\"off\")\n",
        "plt.show()"
      ]
    },
    {
      "cell_type": "markdown",
      "metadata": {
        "id": "60frrCIqt6nr"
      },
      "source": [
        "### Counting the number of times a word has repeated through out the data."
      ]
    },
    {
      "cell_type": "code",
      "execution_count": null,
      "metadata": {
        "colab": {
          "background_save": true
        },
        "id": "hGr9jB00t7EK"
      },
      "outputs": [],
      "source": [
        "tokens_without_sw=(str(tokens_without_sw))"
      ]
    },
    {
      "cell_type": "code",
      "execution_count": null,
      "metadata": {
        "colab": {
          "background_save": true
        },
        "id": "uXCIG-DZt9zT"
      },
      "outputs": [],
      "source": [
        "filtered_words = [word for word in tokens_without_sw.split() if word not in stopwords]\n",
        "counted_words = collections.Counter(filtered_words)\n",
        "\n",
        "words = []\n",
        "counts = []\n",
        "for letter, count in counted_words.most_common(10):\n",
        "    words.append(letter)\n",
        "    counts.append(count)\n",
        "# Removing stopwords as creating two lists to display the words and their counts    "
      ]
    },
    {
      "cell_type": "code",
      "execution_count": null,
      "metadata": {
        "colab": {
          "background_save": true,
          "base_uri": "https://localhost:8080/"
        },
        "id": "hvpPJ8OnuBVs",
        "outputId": "086f73d5-5f61-4453-b136-79f66370413c"
      },
      "outputs": [
        {
          "data": {
            "text/plain": [
              "[(\"'twitter',\", 166959),\n",
              " (\"'elonmusk',\", 106323),\n",
              " (\"'elon',\", 61535),\n",
              " (\"'musk',\", 58719),\n",
              " (\"'co',\", 36672),\n",
              " (\"'buy',\", 29756),\n",
              " (\"'http',\", 26688),\n",
              " (\"'speech',\", 21787),\n",
              " (\"'free',\", 19919),\n",
              " (\"'people',\", 15324),\n",
              " (\"'like',\", 14053),\n",
              " (\"'get',\", 13229),\n",
              " (\"'go',\", 12151),\n",
              " (\"'say',\", 11506),\n",
              " (\"'make',\", 11294),\n",
              " (\"'u',\", 10926),\n",
              " (\"'https',\", 9637),\n",
              " (\"'think',\", 9568),\n",
              " (\"'back',\", 8920),\n",
              " (\"'want',\", 8776),\n",
              " (\"'take',\", 8190),\n",
              " (\"'billion',\", 8032),\n",
              " (\"'see',\", 7950),\n",
              " (\"'one',\", 7673),\n",
              " (\"'would',\", 7526),\n",
              " (\"'know',\", 7230),\n",
              " (\"'platform',\", 7070),\n",
              " (\"'good',\", 6990),\n",
              " (\"'account',\", 6822),\n",
              " (\"'use',\", 6756),\n",
              " (\"'right',\", 6582),\n",
              " (\"'tesla',\", 6518),\n",
              " (\"'could',\", 6414),\n",
              " (\"'buying',\", 6304),\n",
              " (\"'trump',\", 6134),\n",
              " (\"'tweet',\", 5924),\n",
              " (\"'ban',\", 5878),\n",
              " (\"'amp',\", 5860),\n",
              " (\"'new',\", 5810),\n",
              " (\"'leave',\", 5764),\n",
              " (\"'thing',\", 5748),\n",
              " (\"'world',\", 5658),\n",
              " (\"'change',\", 5370),\n",
              " (\"'time',\", 5364),\n",
              " (\"'purchase',\", 5018),\n",
              " (\"'let',\", 4933),\n",
              " (\"'give',\", 4802),\n",
              " (\"'need',\", 4758),\n",
              " (\"'come',\", 4654),\n",
              " (\"'social',\", 4608),\n",
              " (\"'money',\", 4560),\n",
              " (\"'medium',\", 4516),\n",
              " (\"'freedom',\", 4508),\n",
              " (\"'company',\", 4372),\n",
              " (\"'mean',\", 4228),\n",
              " (\"'even',\", 4200),\n",
              " (\"'allow',\", 4182),\n",
              " (\"'well',\", 3982),\n",
              " (\"'please',\", 3960),\n",
              " (\"'hate',\", 3928),\n",
              " (\"'law',\", 3900),\n",
              " (\"'deal',\", 3770),\n",
              " (\"'much',\", 3744),\n",
              " (\"'thank',\", 3704),\n",
              " (\"'really',\", 3696),\n",
              " (\"'news',\", 3638),\n",
              " (\"'day',\", 3614),\n",
              " (\"'way',\", 3584),\n",
              " (\"'still',\", 3576),\n",
              " (\"'year',\", 3515),\n",
              " (\"'many',\", 3462),\n",
              " (\"'everyone',\", 3454),\n",
              " (\"'pay',\", 3422),\n",
              " (\"'takeover',\", 3366),\n",
              " (\"'win',\", 3276),\n",
              " (\"'hope',\", 3229),\n",
              " (\"'already',\", 3228),\n",
              " (\"'since',\", 3200),\n",
              " (\"'post',\", 3188),\n",
              " (\"'first',\", 3182),\n",
              " (\"'user',\", 3164),\n",
              " (\"'also',\", 3118),\n",
              " (\"'look',\", 3102),\n",
              " (\"'work',\", 3054),\n",
              " (\"'b',\", 3038),\n",
              " (\"'bad',\", 2916),\n",
              " (\"'via',\", 2902),\n",
              " (\"'great',\", 2896),\n",
              " (\"'xa',\", 2882),\n",
              " (\"'big',\", 2876),\n",
              " (\"'man',\", 2800),\n",
              " (\"'happen',\", 2788),\n",
              " (\"'tell',\", 2692),\n",
              " (\"'talk',\", 2680),\n",
              " (\"'start',\", 2666),\n",
              " (\"'try',\", 2640),\n",
              " (\"'love',\", 2638),\n",
              " (\"'never',\", 2608),\n",
              " (\"'today',\", 2582),\n",
              " (\"'block',\", 2560)]"
            ]
          },
          "execution_count": null,
          "metadata": {},
          "output_type": "execute_result"
        }
      ],
      "source": [
        "counted_words.most_common(100) # the word 'twitter' has repeated for 166959 times."
      ]
    },
    {
      "cell_type": "markdown",
      "metadata": {
        "id": "ioUdFZ-nun45"
      },
      "source": [
        "# Visualizing top 10 repeated/common words using bar graph."
      ]
    },
    {
      "cell_type": "code",
      "execution_count": null,
      "metadata": {
        "colab": {
          "background_save": true,
          "base_uri": "https://localhost:8080/",
          "height": 659
        },
        "id": "MyzE34DAuocy",
        "outputId": "62f56407-74b8-4b34-ccda-ed5359a5f83b"
      },
      "outputs": [
        {
          "data": {
            "text/plain": [
              "<BarContainer object of 10 artists>"
            ]
          },
          "execution_count": null,
          "metadata": {},
          "output_type": "execute_result"
        },
        {
          "data": {
            "image/png": "[encoded data removed]",
            "text/plain": [
              "<Figure size 1440x720 with 1 Axes>"
            ]
          },
          "metadata": {},
          "output_type": "display_data"
        }
      ],
      "source": [
        "colors = cm.rainbow(np.linspace(0, 1, 10))\n",
        "rcParams['figure.figsize'] = 20, 10\n",
        "\n",
        "plt.title('Top words in the headlines vs their count')\n",
        "plt.xlabel('Count')\n",
        "plt.ylabel('Words')\n",
        "plt.barh(words, counts, color=colors)"
      ]
    },
    {
      "cell_type": "markdown",
      "metadata": {
        "id": "LwiyYoYRuvQ8"
      },
      "source": [
        "# Sentiment Analysis."
      ]
    },
    {
      "cell_type": "markdown",
      "metadata": {
        "id": "7hv7Mckbux3z"
      },
      "source": [
        "### Vader sentiment analysis is done in order to find if a given (Word) is positive, negative or  neutral in nature.\n",
        "VADER belongs to a type of sentiment analysis that is based on lexicons of sentiment-related words. In this approach, each of the words in the lexicon is rated as to whether it is positive or negative, and in many cases, how positive or negative. Below you can see an excerpt from VADER’s lexicon, where more positive words have higher positive ratings and more negative words have lower negative ratings.\n",
        "Vader sentiment analysis for a given (word) if positive, negative or  neutral in nature."
      ]
    },
    {
      "cell_type": "code",
      "execution_count": null,
      "metadata": {
        "colab": {
          "background_save": true,
          "base_uri": "https://localhost:8080/"
        },
        "id": "wIlq6JwPGvcq",
        "outputId": "41255c52-eb11-48e4-a1a4-77056dc4292f"
      },
      "outputs": [
        {
          "name": "stdout",
          "output_type": "stream",
          "text": [
            "Looking in indexes: https://pypi.org/simple, https://us-python.pkg.dev/colab-wheels/public/simple/\n",
            "Requirement already satisfied: vaderSentiment in /usr/local/lib/python3.7/dist-packages (3.3.2)\n",
            "Requirement already satisfied: requests in /usr/local/lib/python3.7/dist-packages (from vaderSentiment) (2.23.0)\n",
            "Requirement already satisfied: urllib3!=1.25.0,!=1.25.1,<1.26,>=1.21.1 in /usr/local/lib/python3.7/dist-packages (from requests->vaderSentiment) (1.24.3)\n",
            "Requirement already satisfied: chardet<4,>=3.0.2 in /usr/local/lib/python3.7/dist-packages (from requests->vaderSentiment) (3.0.4)\n",
            "Requirement already satisfied: certifi>=2017.4.17 in /usr/local/lib/python3.7/dist-packages (from requests->vaderSentiment) (2022.5.18.1)\n",
            "Requirement already satisfied: idna<3,>=2.5 in /usr/local/lib/python3.7/dist-packages (from requests->vaderSentiment) (2.10)\n"
          ]
        }
      ],
      "source": [
        "pip install vaderSentiment"
      ]
    },
    {
      "cell_type": "code",
      "execution_count": null,
      "metadata": {
        "colab": {
          "background_save": true
        },
        "id": "YtlbMNW2uySE"
      },
      "outputs": [],
      "source": [
        "from nltk.sentiment.vader import SentimentIntensityAnalyzer\n",
        "from vaderSentiment.vaderSentiment import SentimentIntensityAnalyzer\n",
        "\n",
        "sentence = tokens_without_sw\n",
        "tokenized_sentence = nltk.word_tokenize(sentence)\n",
        "\n",
        "sid = SentimentIntensityAnalyzer()\n",
        "pos_word_list=[]\n",
        "neu_word_list=[]\n",
        "neg_word_list=[]\n",
        "\n",
        "for word in tokenized_sentence:\n",
        "    if (sid.polarity_scores(word)['compound']) >= 0.1:\n",
        "        pos_word_list.append(word)\n",
        "    elif (sid.polarity_scores(word)['compound']) <= -0.1:\n",
        "        neg_word_list.append(word)\n",
        "    else:        \n",
        "        neu_word_list.append(word)                \n",
        "\n",
        "#print('Positive:',pos_word_list)        \n",
        "#print('Neutral:',neu_word_list)    \n",
        "#print('Negative:',neg_word_list) \n",
        "#score = sid.polarity_scores(sentence)\n",
        "#print('\\nScores:', score)"
      ]
    },
    {
      "cell_type": "code",
      "execution_count": null,
      "metadata": {
        "colab": {
          "background_save": true
        },
        "id": "m-cmzFsVvtCs"
      },
      "outputs": [],
      "source": [
        "#pos_word_list[:100]\n",
        "#neg_word_list[:100]"
      ]
    },
    {
      "cell_type": "markdown",
      "metadata": {
        "id": "X3L3EKZ4vvTs"
      },
      "source": [
        "### Top 100 Positive words."
      ]
    },
    {
      "cell_type": "code",
      "execution_count": null,
      "metadata": {
        "colab": {
          "base_uri": "https://localhost:8080/"
        },
        "id": "cH6YbE1Ivvqy",
        "outputId": "6ba4527d-d3b3-4a9b-9aae-ba1d8f96836c"
      },
      "outputs": [
        {
          "name": "stdout",
          "output_type": "stream",
          "text": [
            "[\"'free\", \"'restore\", \"'thanks\", \"'hope\", \"'honest\", \"'friend\", \"'sure\", \"'best\", \"'like\"]\n"
          ]
        }
      ],
      "source": [
        "print(list(iter(pos_word_list[:100]))) # These are the top 100 positive words found in the dataset."
      ]
    },
    {
      "cell_type": "markdown",
      "metadata": {
        "id": "d1HqZGU-vzRT"
      },
      "source": [
        "### Top 100 Negative words."
      ]
    },
    {
      "cell_type": "code",
      "execution_count": null,
      "metadata": {
        "colab": {
          "base_uri": "https://localhost:8080/"
        },
        "id": "QchyXysKvzna",
        "outputId": "c83970bb-f3a2-4e7d-9654-8ce11570f12b"
      },
      "outputs": [
        {
          "name": "stdout",
          "output_type": "stream",
          "text": [
            "[\"'drop\", \"'ban\", \"'abuse\"]\n"
          ]
        }
      ],
      "source": [
        "print(list(iter(neg_word_list[:100]))) # These are the top 100 negative words found in the dataset."
      ]
    },
    {
      "cell_type": "markdown",
      "metadata": {
        "id": "43JhgPMev9G-"
      },
      "source": [
        "## Vader sentiment analysis for a given (Sentence) if positive, negative or  neutral in nature."
      ]
    },
    {
      "cell_type": "code",
      "execution_count": null,
      "metadata": {
        "id": "B2-MLBo1BJpw"
      },
      "outputs": [],
      "source": [
        "iopub_data_rate_limit=1e10"
      ]
    },
    {
      "cell_type": "code",
      "execution_count": null,
      "metadata": {
        "colab": {
          "base_uri": "https://localhost:8080/",
          "height": 53
        },
        "id": "shizDWm-v9bz",
        "outputId": "5b06b48a-40f5-49e6-f6e6-e492ec10d152"
      },
      "outputs": [
        {
          "output_type": "execute_result",
          "data": {
            "text/plain": [
              "\"sid = SentimentIntensityAnalyzer()\\n\\nfor sentence in Text:\\n  print(sentence)\\n        \\n  ss = sid.polarity_scores(sentence)\\n  for k in ss:\\n    print('{0}: {1}, ' .format(k, ss[k]), end='')\\n  print()\""
            ],
            "application/vnd.google.colaboratory.intrinsic+json": {
              "type": "string"
            }
          },
          "metadata": {},
          "execution_count": 4
        }
      ],
      "source": [
        "sid = SentimentIntensityAnalyzer()\n",
        "\n",
        "for sentence in Text:\n",
        "  print(sentence)\n",
        "        \n",
        "  ss = sid.polarity_scores(sentence)\n",
        "  for k in ss:\n",
        "    print('{0}: {1}, ' .format(k, ss[k]), end='')\n",
        "  print()\n",
        "   "
      ]
    },
    {
      "cell_type": "markdown",
      "metadata": {
        "id": "WUW3YGCX2PWe"
      },
      "source": [
        "### Converting all Polarity scores and sentences into a dataframe."
      ]
    },
    {
      "cell_type": "code",
      "execution_count": null,
      "metadata": {
        "colab": {
          "base_uri": "https://localhost:8080/",
          "height": 49,
          "referenced_widgets": [
            "4456bd33b4fc4fe7a6d69437e7e68b7c",
            "1c809da4850a4fc788cb392197ba264d",
            "bd9179abb9834135aba70f4025082d9e",
            "ada5fb85f1f346daab9b81cb7ee1a013",
            "c4fc0a0fe4164e51b354142a5367ef20",
            "23195355da2243ca8bc94e7c21fb7f0d",
            "cb91a4c8c43d443aa00c1b6ee7a73695",
            "4db6874c435f43468c90863a66fa83fe",
            "f277660c2a9a401cbef27ad0a39cdba2",
            "e7d1f9d6d4434f9cb8bc310b97c688a5",
            "8420c84752d84f06b8d50a60828152c5"
          ]
        },
        "id": "bHodPXet2QZk",
        "outputId": "af1d43bd-7192-4ba3-9d13-c2dc804f0d76"
      },
      "outputs": [
        {
          "data": {
            "application/vnd.jupyter.widget-view+json": {
              "model_id": "4456bd33b4fc4fe7a6d69437e7e68b7c",
              "version_major": 2,
              "version_minor": 0
            },
            "text/plain": [
              "Pandas Apply:   0%|          | 0/75539 [00:00<?, ?it/s]"
            ]
          },
          "metadata": {},
          "output_type": "display_data"
        }
      ],
      "source": [
        "analyzer = SentimentIntensityAnalyzer()\n",
        "df['rating'] = Text.swifter.apply(analyzer.polarity_scores)\n",
        "df=pd.concat([df.drop(['rating'], axis=1), df['rating'].apply(pd.Series)], axis=1)\n",
        "### Creating a dataframe."
      ]
    },
    {
      "cell_type": "code",
      "execution_count": null,
      "metadata": {
        "colab": {
          "base_uri": "https://localhost:8080/",
          "height": 206
        },
        "id": "caFrb7gOeUB1",
        "outputId": "04a578f0-ab57-41ee-c956-ddfd08fec4e7"
      },
      "outputs": [
        {
          "data": {
            "text/html": [
              "\n",
              "  <div id=\"df-237d2d48-454a-4c88-8a46-49f497be4f59\">\n",
              "    <div class=\"colab-df-container\">\n",
              "      <div>\n",
              "<style scoped>\n",
              "    .dataframe tbody tr th:only-of-type {\n",
              "        vertical-align: middle;\n",
              "    }\n",
              "\n",
              "    .dataframe tbody tr th {\n",
              "        vertical-align: top;\n",
              "    }\n",
              "\n",
              "    .dataframe thead th {\n",
              "        text-align: right;\n",
              "    }\n",
              "</style>\n",
              "<table border=\"1\" class=\"dataframe\">\n",
              "  <thead>\n",
              "    <tr style=\"text-align: right;\">\n",
              "      <th></th>\n",
              "      <th>Text</th>\n",
              "      <th>neg</th>\n",
              "      <th>neu</th>\n",
              "      <th>pos</th>\n",
              "      <th>compound</th>\n",
              "    </tr>\n",
              "  </thead>\n",
              "  <tbody>\n",
              "    <tr>\n",
              "      <th>0</th>\n",
              "      <td>now that free speech have finally be restore t...</td>\n",
              "      <td>0.000</td>\n",
              "      <td>0.603</td>\n",
              "      <td>0.397</td>\n",
              "      <td>0.9501</td>\n",
              "    </tr>\n",
              "    <tr>\n",
              "      <th>1</th>\n",
              "      <td>govabbott let ’ s ing twitter to texas possibl...</td>\n",
              "      <td>0.000</td>\n",
              "      <td>1.000</td>\n",
              "      <td>0.000</td>\n",
              "      <td>0.0000</td>\n",
              "    </tr>\n",
              "    <tr>\n",
              "      <th>2</th>\n",
              "      <td>mmmm_oranges if elon musk take over twitter ev...</td>\n",
              "      <td>0.177</td>\n",
              "      <td>0.753</td>\n",
              "      <td>0.070</td>\n",
              "      <td>-0.2500</td>\n",
              "    </tr>\n",
              "    <tr>\n",
              "      <th>3</th>\n",
              "      <td>elonmusk now that twitter be yours can i post ...</td>\n",
              "      <td>0.000</td>\n",
              "      <td>0.898</td>\n",
              "      <td>0.102</td>\n",
              "      <td>0.3612</td>\n",
              "    </tr>\n",
              "    <tr>\n",
              "      <th>4</th>\n",
              "      <td>derpfighter cenkuygur elonmusk twitter http //...</td>\n",
              "      <td>0.000</td>\n",
              "      <td>0.846</td>\n",
              "      <td>0.154</td>\n",
              "      <td>0.4767</td>\n",
              "    </tr>\n",
              "  </tbody>\n",
              "</table>\n",
              "</div>\n",
              "      <button class=\"colab-df-convert\" onclick=\"convertToInteractive('df-237d2d48-454a-4c88-8a46-49f497be4f59')\"\n",
              "              title=\"Convert this dataframe to an interactive table.\"\n",
              "              style=\"display:none;\">\n",
              "        \n",
              "  <svg xmlns=\"http://www.w3.org/2000/svg\" height=\"24px\"viewBox=\"0 0 24 24\"\n",
              "       width=\"24px\">\n",
              "    <path d=\"M0 0h24v24H0V0z\" fill=\"none\"/>\n",
              "    <path d=\"M18.56 5.44l.94 2.06.94-2.06 2.06-.94-2.06-.94-.94-2.06-.94 2.06-2.06.94zm-11 1L8.5 8.5l.94-2.06 2.06-.94-2.06-.94L8.5 2.5l-.94 2.06-2.06.94zm10 10l.94 2.06.94-2.06 2.06-.94-2.06-.94-.94-2.06-.94 2.06-2.06.94z\"/><path d=\"M17.41 7.96l-1.37-1.37c-.4-.4-.92-.59-1.43-.59-.52 0-1.04.2-1.43.59L10.3 9.45l-7.72 7.72c-.78.78-.78 2.05 0 2.83L4 21.41c.39.39.9.59 1.41.59.51 0 1.02-.2 1.41-.59l7.78-7.78 2.81-2.81c.8-.78.8-2.07 0-2.86zM5.41 20L4 18.59l7.72-7.72 1.47 1.35L5.41 20z\"/>\n",
              "  </svg>\n",
              "      </button>\n",
              "      \n",
              "  <style>\n",
              "    .colab-df-container {\n",
              "      display:flex;\n",
              "      flex-wrap:wrap;\n",
              "      gap: 12px;\n",
              "    }\n",
              "\n",
              "    .colab-df-convert {\n",
              "      background-color: #E8F0FE;\n",
              "      border: none;\n",
              "      border-radius: 50%;\n",
              "      cursor: pointer;\n",
              "      display: none;\n",
              "      fill: #1967D2;\n",
              "      height: 32px;\n",
              "      padding: 0 0 0 0;\n",
              "      width: 32px;\n",
              "    }\n",
              "\n",
              "    .colab-df-convert:hover {\n",
              "      background-color: #E2EBFA;\n",
              "      box-shadow: 0px 1px 2px rgba(60, 64, 67, 0.3), 0px 1px 3px 1px rgba(60, 64, 67, 0.15);\n",
              "      fill: #174EA6;\n",
              "    }\n",
              "\n",
              "    [theme=dark] .colab-df-convert {\n",
              "      background-color: #3B4455;\n",
              "      fill: #D2E3FC;\n",
              "    }\n",
              "\n",
              "    [theme=dark] .colab-df-convert:hover {\n",
              "      background-color: #434B5C;\n",
              "      box-shadow: 0px 1px 3px 1px rgba(0, 0, 0, 0.15);\n",
              "      filter: drop-shadow(0px 1px 2px rgba(0, 0, 0, 0.3));\n",
              "      fill: #FFFFFF;\n",
              "    }\n",
              "  </style>\n",
              "\n",
              "      <script>\n",
              "        const buttonEl =\n",
              "          document.querySelector('#df-237d2d48-454a-4c88-8a46-49f497be4f59 button.colab-df-convert');\n",
              "        buttonEl.style.display =\n",
              "          google.colab.kernel.accessAllowed ? 'block' : 'none';\n",
              "\n",
              "        async function convertToInteractive(key) {\n",
              "          const element = document.querySelector('#df-237d2d48-454a-4c88-8a46-49f497be4f59');\n",
              "          const dataTable =\n",
              "            await google.colab.kernel.invokeFunction('convertToInteractive',\n",
              "                                                     [key], {});\n",
              "          if (!dataTable) return;\n",
              "\n",
              "          const docLinkHtml = 'Like what you see? Visit the ' +\n",
              "            '<a target=\"_blank\" href=https://colab.research.google.com/notebooks/data_table.ipynb>data table notebook</a>'\n",
              "            + ' to learn more about interactive tables.';\n",
              "          element.innerHTML = '';\n",
              "          dataTable['output_type'] = 'display_data';\n",
              "          await google.colab.output.renderOutput(dataTable, element);\n",
              "          const docLink = document.createElement('div');\n",
              "          docLink.innerHTML = docLinkHtml;\n",
              "          element.appendChild(docLink);\n",
              "        }\n",
              "      </script>\n",
              "    </div>\n",
              "  </div>\n",
              "  "
            ],
            "text/plain": [
              "                                                Text    neg    neu    pos  \\\n",
              "0  now that free speech have finally be restore t...  0.000  0.603  0.397   \n",
              "1  govabbott let ’ s ing twitter to texas possibl...  0.000  1.000  0.000   \n",
              "2  mmmm_oranges if elon musk take over twitter ev...  0.177  0.753  0.070   \n",
              "3  elonmusk now that twitter be yours can i post ...  0.000  0.898  0.102   \n",
              "4  derpfighter cenkuygur elonmusk twitter http //...  0.000  0.846  0.154   \n",
              "\n",
              "   compound  \n",
              "0    0.9501  \n",
              "1    0.0000  \n",
              "2   -0.2500  \n",
              "3    0.3612  \n",
              "4    0.4767  "
            ]
          },
          "execution_count": 51,
          "metadata": {},
          "output_type": "execute_result"
        }
      ],
      "source": [
        "df.head()"
      ]
    },
    {
      "cell_type": "markdown",
      "metadata": {
        "id": "FtHOsNFveiWf"
      },
      "source": [
        "## Arranging the dataset in descending order based on (Compound score) to find the most important sentence from the given data."
      ]
    },
    {
      "cell_type": "code",
      "execution_count": null,
      "metadata": {
        "id": "0irQYgFxej7x"
      },
      "outputs": [],
      "source": [
        "imp_sent=df.sort_values(by='compound', ascending=False)\n",
        "## arranging the compound column in descending order to find the best sentence. "
      ]
    },
    {
      "cell_type": "code",
      "execution_count": null,
      "metadata": {
        "colab": {
          "base_uri": "https://localhost:8080/",
          "height": 423
        },
        "id": "Lm2JQ9JUeo_v",
        "outputId": "8ed8a315-7905-4445-cb54-edfd7c49f945"
      },
      "outputs": [
        {
          "data": {
            "text/html": [
              "\n",
              "  <div id=\"df-69bcf698-f299-447c-a68a-a1207cf21807\">\n",
              "    <div class=\"colab-df-container\">\n",
              "      <div>\n",
              "<style scoped>\n",
              "    .dataframe tbody tr th:only-of-type {\n",
              "        vertical-align: middle;\n",
              "    }\n",
              "\n",
              "    .dataframe tbody tr th {\n",
              "        vertical-align: top;\n",
              "    }\n",
              "\n",
              "    .dataframe thead th {\n",
              "        text-align: right;\n",
              "    }\n",
              "</style>\n",
              "<table border=\"1\" class=\"dataframe\">\n",
              "  <thead>\n",
              "    <tr style=\"text-align: right;\">\n",
              "      <th></th>\n",
              "      <th>Text</th>\n",
              "      <th>neg</th>\n",
              "      <th>neu</th>\n",
              "      <th>pos</th>\n",
              "      <th>compound</th>\n",
              "    </tr>\n",
              "  </thead>\n",
              "  <tbody>\n",
              "    <tr>\n",
              "      <th>23166</th>\n",
              "      <td>we could have have mean tweet but now elon mus...</td>\n",
              "      <td>0.003</td>\n",
              "      <td>0.489</td>\n",
              "      <td>0.508</td>\n",
              "      <td>0.9999</td>\n",
              "    </tr>\n",
              "    <tr>\n",
              "      <th>28203</th>\n",
              "      <td>liberaltears at the news ... 😂😂🤣🤣😂🤣😂😂😂🤣🤣😂😂😂🤣🤣🤣...</td>\n",
              "      <td>0.113</td>\n",
              "      <td>0.464</td>\n",
              "      <td>0.423</td>\n",
              "      <td>0.9990</td>\n",
              "    </tr>\n",
              "    <tr>\n",
              "      <th>29285</th>\n",
              "      <td>elonmusk ❤️🧡💛💚💜💖 ❤️🧡💛💚💜💖 elon censorship be no...</td>\n",
              "      <td>0.000</td>\n",
              "      <td>0.343</td>\n",
              "      <td>0.657</td>\n",
              "      <td>0.9986</td>\n",
              "    </tr>\n",
              "    <tr>\n",
              "      <th>16828</th>\n",
              "      <td>bro elon musk own twitter now🤣🤣🤣🤣🤣🤣🤣🤣🤣🤣🤣🤣🤣🤣🤣🤣🤣...</td>\n",
              "      <td>0.000</td>\n",
              "      <td>0.570</td>\n",
              "      <td>0.430</td>\n",
              "      <td>0.9975</td>\n",
              "    </tr>\n",
              "    <tr>\n",
              "      <th>46578</th>\n",
              "      <td>elonmusk have say that from now on twitter wou...</td>\n",
              "      <td>0.173</td>\n",
              "      <td>0.445</td>\n",
              "      <td>0.382</td>\n",
              "      <td>0.9957</td>\n",
              "    </tr>\n",
              "    <tr>\n",
              "      <th>...</th>\n",
              "      <td>...</td>\n",
              "      <td>...</td>\n",
              "      <td>...</td>\n",
              "      <td>...</td>\n",
              "      <td>...</td>\n",
              "    </tr>\n",
              "    <tr>\n",
              "      <th>25871</th>\n",
              "      <td>comicalgovinda josiahbrewster theprayagtiwari ...</td>\n",
              "      <td>0.420</td>\n",
              "      <td>0.513</td>\n",
              "      <td>0.067</td>\n",
              "      <td>-0.9881</td>\n",
              "    </tr>\n",
              "    <tr>\n",
              "      <th>42611</th>\n",
              "      <td>lady and gentleman forget ola btc portable ash...</td>\n",
              "      <td>0.577</td>\n",
              "      <td>0.423</td>\n",
              "      <td>0.000</td>\n",
              "      <td>-0.9951</td>\n",
              "    </tr>\n",
              "    <tr>\n",
              "      <th>55219</th>\n",
              "      <td>fuck you fuck you fuck you fuck you fuck you f...</td>\n",
              "      <td>0.712</td>\n",
              "      <td>0.260</td>\n",
              "      <td>0.028</td>\n",
              "      <td>-0.9961</td>\n",
              "    </tr>\n",
              "    <tr>\n",
              "      <th>73374</th>\n",
              "      <td>ap tesla elonmusk twitter every liberal who be...</td>\n",
              "      <td>0.561</td>\n",
              "      <td>0.416</td>\n",
              "      <td>0.022</td>\n",
              "      <td>-0.9975</td>\n",
              "    </tr>\n",
              "    <tr>\n",
              "      <th>17360</th>\n",
              "      <td>omfg elon musk buy twitter 😳😳😱😱😱😱😱😱😱😱😨😨😨😨😨😨😨😨😨...</td>\n",
              "      <td>0.692</td>\n",
              "      <td>0.308</td>\n",
              "      <td>0.000</td>\n",
              "      <td>-0.9983</td>\n",
              "    </tr>\n",
              "  </tbody>\n",
              "</table>\n",
              "<p>75539 rows × 5 columns</p>\n",
              "</div>\n",
              "      <button class=\"colab-df-convert\" onclick=\"convertToInteractive('df-69bcf698-f299-447c-a68a-a1207cf21807')\"\n",
              "              title=\"Convert this dataframe to an interactive table.\"\n",
              "              style=\"display:none;\">\n",
              "        \n",
              "  <svg xmlns=\"http://www.w3.org/2000/svg\" height=\"24px\"viewBox=\"0 0 24 24\"\n",
              "       width=\"24px\">\n",
              "    <path d=\"M0 0h24v24H0V0z\" fill=\"none\"/>\n",
              "    <path d=\"M18.56 5.44l.94 2.06.94-2.06 2.06-.94-2.06-.94-.94-2.06-.94 2.06-2.06.94zm-11 1L8.5 8.5l.94-2.06 2.06-.94-2.06-.94L8.5 2.5l-.94 2.06-2.06.94zm10 10l.94 2.06.94-2.06 2.06-.94-2.06-.94-.94-2.06-.94 2.06-2.06.94z\"/><path d=\"M17.41 7.96l-1.37-1.37c-.4-.4-.92-.59-1.43-.59-.52 0-1.04.2-1.43.59L10.3 9.45l-7.72 7.72c-.78.78-.78 2.05 0 2.83L4 21.41c.39.39.9.59 1.41.59.51 0 1.02-.2 1.41-.59l7.78-7.78 2.81-2.81c.8-.78.8-2.07 0-2.86zM5.41 20L4 18.59l7.72-7.72 1.47 1.35L5.41 20z\"/>\n",
              "  </svg>\n",
              "      </button>\n",
              "      \n",
              "  <style>\n",
              "    .colab-df-container {\n",
              "      display:flex;\n",
              "      flex-wrap:wrap;\n",
              "      gap: 12px;\n",
              "    }\n",
              "\n",
              "    .colab-df-convert {\n",
              "      background-color: #E8F0FE;\n",
              "      border: none;\n",
              "      border-radius: 50%;\n",
              "      cursor: pointer;\n",
              "      display: none;\n",
              "      fill: #1967D2;\n",
              "      height: 32px;\n",
              "      padding: 0 0 0 0;\n",
              "      width: 32px;\n",
              "    }\n",
              "\n",
              "    .colab-df-convert:hover {\n",
              "      background-color: #E2EBFA;\n",
              "      box-shadow: 0px 1px 2px rgba(60, 64, 67, 0.3), 0px 1px 3px 1px rgba(60, 64, 67, 0.15);\n",
              "      fill: #174EA6;\n",
              "    }\n",
              "\n",
              "    [theme=dark] .colab-df-convert {\n",
              "      background-color: #3B4455;\n",
              "      fill: #D2E3FC;\n",
              "    }\n",
              "\n",
              "    [theme=dark] .colab-df-convert:hover {\n",
              "      background-color: #434B5C;\n",
              "      box-shadow: 0px 1px 3px 1px rgba(0, 0, 0, 0.15);\n",
              "      filter: drop-shadow(0px 1px 2px rgba(0, 0, 0, 0.3));\n",
              "      fill: #FFFFFF;\n",
              "    }\n",
              "  </style>\n",
              "\n",
              "      <script>\n",
              "        const buttonEl =\n",
              "          document.querySelector('#df-69bcf698-f299-447c-a68a-a1207cf21807 button.colab-df-convert');\n",
              "        buttonEl.style.display =\n",
              "          google.colab.kernel.accessAllowed ? 'block' : 'none';\n",
              "\n",
              "        async function convertToInteractive(key) {\n",
              "          const element = document.querySelector('#df-69bcf698-f299-447c-a68a-a1207cf21807');\n",
              "          const dataTable =\n",
              "            await google.colab.kernel.invokeFunction('convertToInteractive',\n",
              "                                                     [key], {});\n",
              "          if (!dataTable) return;\n",
              "\n",
              "          const docLinkHtml = 'Like what you see? Visit the ' +\n",
              "            '<a target=\"_blank\" href=https://colab.research.google.com/notebooks/data_table.ipynb>data table notebook</a>'\n",
              "            + ' to learn more about interactive tables.';\n",
              "          element.innerHTML = '';\n",
              "          dataTable['output_type'] = 'display_data';\n",
              "          await google.colab.output.renderOutput(dataTable, element);\n",
              "          const docLink = document.createElement('div');\n",
              "          docLink.innerHTML = docLinkHtml;\n",
              "          element.appendChild(docLink);\n",
              "        }\n",
              "      </script>\n",
              "    </div>\n",
              "  </div>\n",
              "  "
            ],
            "text/plain": [
              "                                                    Text    neg    neu    pos  \\\n",
              "23166  we could have have mean tweet but now elon mus...  0.003  0.489  0.508   \n",
              "28203  liberaltears at the news ... 😂😂🤣🤣😂🤣😂😂😂🤣🤣😂😂😂🤣🤣🤣...  0.113  0.464  0.423   \n",
              "29285  elonmusk ❤️🧡💛💚💜💖 ❤️🧡💛💚💜💖 elon censorship be no...  0.000  0.343  0.657   \n",
              "16828  bro elon musk own twitter now🤣🤣🤣🤣🤣🤣🤣🤣🤣🤣🤣🤣🤣🤣🤣🤣🤣...  0.000  0.570  0.430   \n",
              "46578  elonmusk have say that from now on twitter wou...  0.173  0.445  0.382   \n",
              "...                                                  ...    ...    ...    ...   \n",
              "25871  comicalgovinda josiahbrewster theprayagtiwari ...  0.420  0.513  0.067   \n",
              "42611  lady and gentleman forget ola btc portable ash...  0.577  0.423  0.000   \n",
              "55219  fuck you fuck you fuck you fuck you fuck you f...  0.712  0.260  0.028   \n",
              "73374  ap tesla elonmusk twitter every liberal who be...  0.561  0.416  0.022   \n",
              "17360  omfg elon musk buy twitter 😳😳😱😱😱😱😱😱😱😱😨😨😨😨😨😨😨😨😨...  0.692  0.308  0.000   \n",
              "\n",
              "       compound  \n",
              "23166    0.9999  \n",
              "28203    0.9990  \n",
              "29285    0.9986  \n",
              "16828    0.9975  \n",
              "46578    0.9957  \n",
              "...         ...  \n",
              "25871   -0.9881  \n",
              "42611   -0.9951  \n",
              "55219   -0.9961  \n",
              "73374   -0.9975  \n",
              "17360   -0.9983  \n",
              "\n",
              "[75539 rows x 5 columns]"
            ]
          },
          "execution_count": 53,
          "metadata": {},
          "output_type": "execute_result"
        }
      ],
      "source": [
        "imp_sent "
      ]
    },
    {
      "cell_type": "code",
      "execution_count": null,
      "metadata": {
        "colab": {
          "base_uri": "https://localhost:8080/"
        },
        "id": "Eb66pKAheuRr",
        "outputId": "9d583db9-8d9f-4849-c201-2d904436a009"
      },
      "outputs": [
        {
          "name": "stdout",
          "output_type": "stream",
          "text": [
            "we could have have mean tweet but now elon musk own twitter😅😆😂🤣🤣🤣🤣🤣🤣🤣🤣🤣🤣🤣🤣🤣🤣🤣🤣🤣🤣🤣🤣🤣🤣🤣🤣🤣🤣🤣🤣🤣🤣🤣🤣🤣🤣🤣🤣🤣🤣🤣🤣🤣🤣🤣🤣🤣🤣🤣🤣🤣🤣🤣🤣🤣🤣🤣🤣🤣🤣🤣🤣🤣🤣🤣🤣🤣🤣🤣🤣🤣🤣🤣🤣🤣🤣🤣🤣🤣🤣🤣🤣🤣🤣🤣🤣🤣🤣🤣🤣🤣heeheehahaaaaaaaaa🤣🤣🤣🤣🤣🤣🤣🤣🤣\n"
          ]
        }
      ],
      "source": [
        "print(df['Text'].iloc[23166] ) # sentence with index 23166 has the highest compound score \n",
        "                             # and hence it is the most important sentence among all the sentences."
      ]
    },
    {
      "cell_type": "markdown",
      "metadata": {
        "id": "A0sCeBvbe6-Y"
      },
      "source": [
        "## Finding top positive sentence in the data."
      ]
    },
    {
      "cell_type": "code",
      "execution_count": null,
      "metadata": {
        "id": "gBOWqwbre8Re"
      },
      "outputs": [],
      "source": [
        "pos_sent=df.sort_values(by='pos', ascending=False)\n",
        "## Arranging the dataframe by positive column in descending order to find the best postive sentence."
      ]
    },
    {
      "cell_type": "code",
      "execution_count": null,
      "metadata": {
        "colab": {
          "base_uri": "https://localhost:8080/",
          "height": 423
        },
        "id": "lIHZv0TVe_4P",
        "outputId": "5febe100-0401-41de-c90a-b066be9c0f2d"
      },
      "outputs": [
        {
          "data": {
            "text/html": [
              "\n",
              "  <div id=\"df-2a4c7339-34cc-479e-aae9-5f21c06125ab\">\n",
              "    <div class=\"colab-df-container\">\n",
              "      <div>\n",
              "<style scoped>\n",
              "    .dataframe tbody tr th:only-of-type {\n",
              "        vertical-align: middle;\n",
              "    }\n",
              "\n",
              "    .dataframe tbody tr th {\n",
              "        vertical-align: top;\n",
              "    }\n",
              "\n",
              "    .dataframe thead th {\n",
              "        text-align: right;\n",
              "    }\n",
              "</style>\n",
              "<table border=\"1\" class=\"dataframe\">\n",
              "  <thead>\n",
              "    <tr style=\"text-align: right;\">\n",
              "      <th></th>\n",
              "      <th>Text</th>\n",
              "      <th>neg</th>\n",
              "      <th>neu</th>\n",
              "      <th>pos</th>\n",
              "      <th>compound</th>\n",
              "    </tr>\n",
              "  </thead>\n",
              "  <tbody>\n",
              "    <tr>\n",
              "      <th>74299</th>\n",
              "      <td>elonmusk congratulation dear enjoy twitter</td>\n",
              "      <td>0.000</td>\n",
              "      <td>0.171</td>\n",
              "      <td>0.829</td>\n",
              "      <td>0.8658</td>\n",
              "    </tr>\n",
              "    <tr>\n",
              "      <th>67574</th>\n",
              "      <td>saylor morganlbrennan michaelsantoli elonmusk ...</td>\n",
              "      <td>0.000</td>\n",
              "      <td>0.205</td>\n",
              "      <td>0.795</td>\n",
              "      <td>0.9934</td>\n",
              "    </tr>\n",
              "    <tr>\n",
              "      <th>53132</th>\n",
              "      <td>congratulation elonmusk best wish for twitter</td>\n",
              "      <td>0.000</td>\n",
              "      <td>0.217</td>\n",
              "      <td>0.783</td>\n",
              "      <td>0.8957</td>\n",
              "    </tr>\n",
              "    <tr>\n",
              "      <th>37196</th>\n",
              "      <td>congratulation elonmusk innovation be beautifu...</td>\n",
              "      <td>0.000</td>\n",
              "      <td>0.224</td>\n",
              "      <td>0.776</td>\n",
              "      <td>0.8860</td>\n",
              "    </tr>\n",
              "    <tr>\n",
              "      <th>69103</th>\n",
              "      <td>congrats elonmusktwitter</td>\n",
              "      <td>0.000</td>\n",
              "      <td>0.227</td>\n",
              "      <td>0.773</td>\n",
              "      <td>0.5267</td>\n",
              "    </tr>\n",
              "    <tr>\n",
              "      <th>...</th>\n",
              "      <td>...</td>\n",
              "      <td>...</td>\n",
              "      <td>...</td>\n",
              "      <td>...</td>\n",
              "      <td>...</td>\n",
              "    </tr>\n",
              "    <tr>\n",
              "      <th>15904</th>\n",
              "      <td>if the discussion stay there twitter serve no ...</td>\n",
              "      <td>0.219</td>\n",
              "      <td>0.781</td>\n",
              "      <td>0.000</td>\n",
              "      <td>-0.7096</td>\n",
              "    </tr>\n",
              "    <tr>\n",
              "      <th>7642</th>\n",
              "      <td>chickensandgoa steveolley nigel_farage elonmus...</td>\n",
              "      <td>0.000</td>\n",
              "      <td>1.000</td>\n",
              "      <td>0.000</td>\n",
              "      <td>0.0000</td>\n",
              "    </tr>\n",
              "    <tr>\n",
              "      <th>7643</th>\n",
              "      <td>have anyone check on repaoc and her tesla sinc...</td>\n",
              "      <td>0.233</td>\n",
              "      <td>0.767</td>\n",
              "      <td>0.000</td>\n",
              "      <td>-0.8360</td>\n",
              "    </tr>\n",
              "    <tr>\n",
              "      <th>7644</th>\n",
              "      <td>sassyrightwing twitter elonmusk hey elon your ...</td>\n",
              "      <td>0.000</td>\n",
              "      <td>1.000</td>\n",
              "      <td>0.000</td>\n",
              "      <td>0.0000</td>\n",
              "    </tr>\n",
              "    <tr>\n",
              "      <th>48870</th>\n",
              "      <td>elonmusk levie when donald trump comming to tw...</td>\n",
              "      <td>0.000</td>\n",
              "      <td>1.000</td>\n",
              "      <td>0.000</td>\n",
              "      <td>0.0000</td>\n",
              "    </tr>\n",
              "  </tbody>\n",
              "</table>\n",
              "<p>75539 rows × 5 columns</p>\n",
              "</div>\n",
              "      <button class=\"colab-df-convert\" onclick=\"convertToInteractive('df-2a4c7339-34cc-479e-aae9-5f21c06125ab')\"\n",
              "              title=\"Convert this dataframe to an interactive table.\"\n",
              "              style=\"display:none;\">\n",
              "        \n",
              "  <svg xmlns=\"http://www.w3.org/2000/svg\" height=\"24px\"viewBox=\"0 0 24 24\"\n",
              "       width=\"24px\">\n",
              "    <path d=\"M0 0h24v24H0V0z\" fill=\"none\"/>\n",
              "    <path d=\"M18.56 5.44l.94 2.06.94-2.06 2.06-.94-2.06-.94-.94-2.06-.94 2.06-2.06.94zm-11 1L8.5 8.5l.94-2.06 2.06-.94-2.06-.94L8.5 2.5l-.94 2.06-2.06.94zm10 10l.94 2.06.94-2.06 2.06-.94-2.06-.94-.94-2.06-.94 2.06-2.06.94z\"/><path d=\"M17.41 7.96l-1.37-1.37c-.4-.4-.92-.59-1.43-.59-.52 0-1.04.2-1.43.59L10.3 9.45l-7.72 7.72c-.78.78-.78 2.05 0 2.83L4 21.41c.39.39.9.59 1.41.59.51 0 1.02-.2 1.41-.59l7.78-7.78 2.81-2.81c.8-.78.8-2.07 0-2.86zM5.41 20L4 18.59l7.72-7.72 1.47 1.35L5.41 20z\"/>\n",
              "  </svg>\n",
              "      </button>\n",
              "      \n",
              "  <style>\n",
              "    .colab-df-container {\n",
              "      display:flex;\n",
              "      flex-wrap:wrap;\n",
              "      gap: 12px;\n",
              "    }\n",
              "\n",
              "    .colab-df-convert {\n",
              "      background-color: #E8F0FE;\n",
              "      border: none;\n",
              "      border-radius: 50%;\n",
              "      cursor: pointer;\n",
              "      display: none;\n",
              "      fill: #1967D2;\n",
              "      height: 32px;\n",
              "      padding: 0 0 0 0;\n",
              "      width: 32px;\n",
              "    }\n",
              "\n",
              "    .colab-df-convert:hover {\n",
              "      background-color: #E2EBFA;\n",
              "      box-shadow: 0px 1px 2px rgba(60, 64, 67, 0.3), 0px 1px 3px 1px rgba(60, 64, 67, 0.15);\n",
              "      fill: #174EA6;\n",
              "    }\n",
              "\n",
              "    [theme=dark] .colab-df-convert {\n",
              "      background-color: #3B4455;\n",
              "      fill: #D2E3FC;\n",
              "    }\n",
              "\n",
              "    [theme=dark] .colab-df-convert:hover {\n",
              "      background-color: #434B5C;\n",
              "      box-shadow: 0px 1px 3px 1px rgba(0, 0, 0, 0.15);\n",
              "      filter: drop-shadow(0px 1px 2px rgba(0, 0, 0, 0.3));\n",
              "      fill: #FFFFFF;\n",
              "    }\n",
              "  </style>\n",
              "\n",
              "      <script>\n",
              "        const buttonEl =\n",
              "          document.querySelector('#df-2a4c7339-34cc-479e-aae9-5f21c06125ab button.colab-df-convert');\n",
              "        buttonEl.style.display =\n",
              "          google.colab.kernel.accessAllowed ? 'block' : 'none';\n",
              "\n",
              "        async function convertToInteractive(key) {\n",
              "          const element = document.querySelector('#df-2a4c7339-34cc-479e-aae9-5f21c06125ab');\n",
              "          const dataTable =\n",
              "            await google.colab.kernel.invokeFunction('convertToInteractive',\n",
              "                                                     [key], {});\n",
              "          if (!dataTable) return;\n",
              "\n",
              "          const docLinkHtml = 'Like what you see? Visit the ' +\n",
              "            '<a target=\"_blank\" href=https://colab.research.google.com/notebooks/data_table.ipynb>data table notebook</a>'\n",
              "            + ' to learn more about interactive tables.';\n",
              "          element.innerHTML = '';\n",
              "          dataTable['output_type'] = 'display_data';\n",
              "          await google.colab.output.renderOutput(dataTable, element);\n",
              "          const docLink = document.createElement('div');\n",
              "          docLink.innerHTML = docLinkHtml;\n",
              "          element.appendChild(docLink);\n",
              "        }\n",
              "      </script>\n",
              "    </div>\n",
              "  </div>\n",
              "  "
            ],
            "text/plain": [
              "                                                    Text    neg    neu    pos  \\\n",
              "74299         elonmusk congratulation dear enjoy twitter  0.000  0.171  0.829   \n",
              "67574  saylor morganlbrennan michaelsantoli elonmusk ...  0.000  0.205  0.795   \n",
              "53132      congratulation elonmusk best wish for twitter  0.000  0.217  0.783   \n",
              "37196  congratulation elonmusk innovation be beautifu...  0.000  0.224  0.776   \n",
              "69103                           congrats elonmusktwitter  0.000  0.227  0.773   \n",
              "...                                                  ...    ...    ...    ...   \n",
              "15904  if the discussion stay there twitter serve no ...  0.219  0.781  0.000   \n",
              "7642   chickensandgoa steveolley nigel_farage elonmus...  0.000  1.000  0.000   \n",
              "7643   have anyone check on repaoc and her tesla sinc...  0.233  0.767  0.000   \n",
              "7644   sassyrightwing twitter elonmusk hey elon your ...  0.000  1.000  0.000   \n",
              "48870  elonmusk levie when donald trump comming to tw...  0.000  1.000  0.000   \n",
              "\n",
              "       compound  \n",
              "74299    0.8658  \n",
              "67574    0.9934  \n",
              "53132    0.8957  \n",
              "37196    0.8860  \n",
              "69103    0.5267  \n",
              "...         ...  \n",
              "15904   -0.7096  \n",
              "7642     0.0000  \n",
              "7643    -0.8360  \n",
              "7644     0.0000  \n",
              "48870    0.0000  \n",
              "\n",
              "[75539 rows x 5 columns]"
            ]
          },
          "execution_count": 56,
          "metadata": {},
          "output_type": "execute_result"
        }
      ],
      "source": [
        "pos_sent"
      ]
    },
    {
      "cell_type": "code",
      "execution_count": null,
      "metadata": {
        "colab": {
          "base_uri": "https://localhost:8080/"
        },
        "id": "4M_DWnf5fELf",
        "outputId": "dc76b47b-0a7a-4e7f-f489-b93fa9668a88"
      },
      "outputs": [
        {
          "name": "stdout",
          "output_type": "stream",
          "text": [
            "elonmusk congratulation dear enjoy twitter\n"
          ]
        }
      ],
      "source": [
        "print(df['Text'].iloc[74299] ) # sentence with index 74299 has the highest positive score and is the most postive. "
      ]
    },
    {
      "cell_type": "markdown",
      "metadata": {
        "id": "U2AsLLllfI7u"
      },
      "source": [
        "## Finding top negative sentence in the data."
      ]
    },
    {
      "cell_type": "code",
      "execution_count": null,
      "metadata": {
        "id": "b-w2emyYfKWF"
      },
      "outputs": [],
      "source": [
        "neg_sent=df.sort_values(by='neg', ascending=False)\n",
        "## Arranging the dataframe by negative column in descending order to find the best negative sentence."
      ]
    },
    {
      "cell_type": "code",
      "execution_count": null,
      "metadata": {
        "id": "NOqFC1yyfLeg"
      },
      "outputs": [],
      "source": [
        "#neg_sent"
      ]
    },
    {
      "cell_type": "code",
      "execution_count": null,
      "metadata": {
        "id": "LBOzmofqfRAX"
      },
      "outputs": [],
      "source": [
        "#print(df['Text'].iloc[53166])# sentence with index 53166 has the highest negative score and is the most negative sentence "
      ]
    },
    {
      "cell_type": "code",
      "execution_count": null,
      "metadata": {
        "id": "8c18D7TwfglD"
      },
      "outputs": [],
      "source": [
        "sentences=df"
      ]
    },
    {
      "cell_type": "markdown",
      "metadata": {
        "id": "xzekmzzoflPl"
      },
      "source": [
        "# Giving threshold values to classify if a given sentence is positive, negative or neutral in nature."
      ]
    },
    {
      "cell_type": "code",
      "execution_count": null,
      "metadata": {
        "id": "ogPeVX3hfh9H"
      },
      "outputs": [],
      "source": [
        "#Assigning score categories and logic\n",
        "i = 0\n",
        "\n",
        "predicted_value = [ ] #empty series to hold our predicted values\n",
        "\n",
        "while(i<len(sentences)):\n",
        "    if ((sentences.iloc[i]['compound'] >= 0.5)):\n",
        "        predicted_value.append('positive')\n",
        "        i = i+1\n",
        "    elif ((sentences.iloc[i]['compound'] > 0) & (sentences.iloc[i]['compound'] < 0.5)):\n",
        "        predicted_value.append('neutral')\n",
        "        i = i+1\n",
        "    elif ((sentences.iloc[i]['compound'] <= 0)):\n",
        "        predicted_value.append('negative')\n",
        "        i = i+1\n",
        "## The threshold value will categorize if a given sentence is positive negative or neutral in nature.        "
      ]
    },
    {
      "cell_type": "code",
      "execution_count": null,
      "metadata": {
        "id": "_LxC7QSSfypA"
      },
      "outputs": [],
      "source": [
        "#predicted_value"
      ]
    },
    {
      "cell_type": "markdown",
      "metadata": {
        "id": "WvZcj-aOf5Gv"
      },
      "source": [
        "### Adding the target or sentiment column to our data frame."
      ]
    },
    {
      "cell_type": "code",
      "execution_count": null,
      "metadata": {
        "id": "EK1_D9xbfiZc"
      },
      "outputs": [],
      "source": [
        "df['Target'] = predicted_value \n",
        "## A new column has been created called as 'Target' with sentiments assigned to a given text."
      ]
    },
    {
      "cell_type": "code",
      "execution_count": null,
      "metadata": {
        "colab": {
          "base_uri": "https://localhost:8080/",
          "height": 206
        },
        "id": "fRdUcn15f9jH",
        "outputId": "1736dc2f-c3e2-4ece-911a-d3699bb08027"
      },
      "outputs": [
        {
          "data": {
            "text/html": [
              "\n",
              "  <div id=\"df-099da07c-b291-40e6-a44b-79712a4f8a8c\">\n",
              "    <div class=\"colab-df-container\">\n",
              "      <div>\n",
              "<style scoped>\n",
              "    .dataframe tbody tr th:only-of-type {\n",
              "        vertical-align: middle;\n",
              "    }\n",
              "\n",
              "    .dataframe tbody tr th {\n",
              "        vertical-align: top;\n",
              "    }\n",
              "\n",
              "    .dataframe thead th {\n",
              "        text-align: right;\n",
              "    }\n",
              "</style>\n",
              "<table border=\"1\" class=\"dataframe\">\n",
              "  <thead>\n",
              "    <tr style=\"text-align: right;\">\n",
              "      <th></th>\n",
              "      <th>Text</th>\n",
              "      <th>neg</th>\n",
              "      <th>neu</th>\n",
              "      <th>pos</th>\n",
              "      <th>compound</th>\n",
              "      <th>Target</th>\n",
              "    </tr>\n",
              "  </thead>\n",
              "  <tbody>\n",
              "    <tr>\n",
              "      <th>0</th>\n",
              "      <td>now that free speech have finally be restore t...</td>\n",
              "      <td>0.000</td>\n",
              "      <td>0.603</td>\n",
              "      <td>0.397</td>\n",
              "      <td>0.9501</td>\n",
              "      <td>positive</td>\n",
              "    </tr>\n",
              "    <tr>\n",
              "      <th>1</th>\n",
              "      <td>govabbott let ’ s ing twitter to texas possibl...</td>\n",
              "      <td>0.000</td>\n",
              "      <td>1.000</td>\n",
              "      <td>0.000</td>\n",
              "      <td>0.0000</td>\n",
              "      <td>negative</td>\n",
              "    </tr>\n",
              "    <tr>\n",
              "      <th>2</th>\n",
              "      <td>mmmm_oranges if elon musk take over twitter ev...</td>\n",
              "      <td>0.177</td>\n",
              "      <td>0.753</td>\n",
              "      <td>0.070</td>\n",
              "      <td>-0.2500</td>\n",
              "      <td>negative</td>\n",
              "    </tr>\n",
              "    <tr>\n",
              "      <th>3</th>\n",
              "      <td>elonmusk now that twitter be yours can i post ...</td>\n",
              "      <td>0.000</td>\n",
              "      <td>0.898</td>\n",
              "      <td>0.102</td>\n",
              "      <td>0.3612</td>\n",
              "      <td>neutral</td>\n",
              "    </tr>\n",
              "    <tr>\n",
              "      <th>4</th>\n",
              "      <td>derpfighter cenkuygur elonmusk twitter http //...</td>\n",
              "      <td>0.000</td>\n",
              "      <td>0.846</td>\n",
              "      <td>0.154</td>\n",
              "      <td>0.4767</td>\n",
              "      <td>neutral</td>\n",
              "    </tr>\n",
              "  </tbody>\n",
              "</table>\n",
              "</div>\n",
              "      <button class=\"colab-df-convert\" onclick=\"convertToInteractive('df-099da07c-b291-40e6-a44b-79712a4f8a8c')\"\n",
              "              title=\"Convert this dataframe to an interactive table.\"\n",
              "              style=\"display:none;\">\n",
              "        \n",
              "  <svg xmlns=\"http://www.w3.org/2000/svg\" height=\"24px\"viewBox=\"0 0 24 24\"\n",
              "       width=\"24px\">\n",
              "    <path d=\"M0 0h24v24H0V0z\" fill=\"none\"/>\n",
              "    <path d=\"M18.56 5.44l.94 2.06.94-2.06 2.06-.94-2.06-.94-.94-2.06-.94 2.06-2.06.94zm-11 1L8.5 8.5l.94-2.06 2.06-.94-2.06-.94L8.5 2.5l-.94 2.06-2.06.94zm10 10l.94 2.06.94-2.06 2.06-.94-2.06-.94-.94-2.06-.94 2.06-2.06.94z\"/><path d=\"M17.41 7.96l-1.37-1.37c-.4-.4-.92-.59-1.43-.59-.52 0-1.04.2-1.43.59L10.3 9.45l-7.72 7.72c-.78.78-.78 2.05 0 2.83L4 21.41c.39.39.9.59 1.41.59.51 0 1.02-.2 1.41-.59l7.78-7.78 2.81-2.81c.8-.78.8-2.07 0-2.86zM5.41 20L4 18.59l7.72-7.72 1.47 1.35L5.41 20z\"/>\n",
              "  </svg>\n",
              "      </button>\n",
              "      \n",
              "  <style>\n",
              "    .colab-df-container {\n",
              "      display:flex;\n",
              "      flex-wrap:wrap;\n",
              "      gap: 12px;\n",
              "    }\n",
              "\n",
              "    .colab-df-convert {\n",
              "      background-color: #E8F0FE;\n",
              "      border: none;\n",
              "      border-radius: 50%;\n",
              "      cursor: pointer;\n",
              "      display: none;\n",
              "      fill: #1967D2;\n",
              "      height: 32px;\n",
              "      padding: 0 0 0 0;\n",
              "      width: 32px;\n",
              "    }\n",
              "\n",
              "    .colab-df-convert:hover {\n",
              "      background-color: #E2EBFA;\n",
              "      box-shadow: 0px 1px 2px rgba(60, 64, 67, 0.3), 0px 1px 3px 1px rgba(60, 64, 67, 0.15);\n",
              "      fill: #174EA6;\n",
              "    }\n",
              "\n",
              "    [theme=dark] .colab-df-convert {\n",
              "      background-color: #3B4455;\n",
              "      fill: #D2E3FC;\n",
              "    }\n",
              "\n",
              "    [theme=dark] .colab-df-convert:hover {\n",
              "      background-color: #434B5C;\n",
              "      box-shadow: 0px 1px 3px 1px rgba(0, 0, 0, 0.15);\n",
              "      filter: drop-shadow(0px 1px 2px rgba(0, 0, 0, 0.3));\n",
              "      fill: #FFFFFF;\n",
              "    }\n",
              "  </style>\n",
              "\n",
              "      <script>\n",
              "        const buttonEl =\n",
              "          document.querySelector('#df-099da07c-b291-40e6-a44b-79712a4f8a8c button.colab-df-convert');\n",
              "        buttonEl.style.display =\n",
              "          google.colab.kernel.accessAllowed ? 'block' : 'none';\n",
              "\n",
              "        async function convertToInteractive(key) {\n",
              "          const element = document.querySelector('#df-099da07c-b291-40e6-a44b-79712a4f8a8c');\n",
              "          const dataTable =\n",
              "            await google.colab.kernel.invokeFunction('convertToInteractive',\n",
              "                                                     [key], {});\n",
              "          if (!dataTable) return;\n",
              "\n",
              "          const docLinkHtml = 'Like what you see? Visit the ' +\n",
              "            '<a target=\"_blank\" href=https://colab.research.google.com/notebooks/data_table.ipynb>data table notebook</a>'\n",
              "            + ' to learn more about interactive tables.';\n",
              "          element.innerHTML = '';\n",
              "          dataTable['output_type'] = 'display_data';\n",
              "          await google.colab.output.renderOutput(dataTable, element);\n",
              "          const docLink = document.createElement('div');\n",
              "          docLink.innerHTML = docLinkHtml;\n",
              "          element.appendChild(docLink);\n",
              "        }\n",
              "      </script>\n",
              "    </div>\n",
              "  </div>\n",
              "  "
            ],
            "text/plain": [
              "                                                Text    neg    neu    pos  \\\n",
              "0  now that free speech have finally be restore t...  0.000  0.603  0.397   \n",
              "1  govabbott let ’ s ing twitter to texas possibl...  0.000  1.000  0.000   \n",
              "2  mmmm_oranges if elon musk take over twitter ev...  0.177  0.753  0.070   \n",
              "3  elonmusk now that twitter be yours can i post ...  0.000  0.898  0.102   \n",
              "4  derpfighter cenkuygur elonmusk twitter http //...  0.000  0.846  0.154   \n",
              "\n",
              "   compound    Target  \n",
              "0    0.9501  positive  \n",
              "1    0.0000  negative  \n",
              "2   -0.2500  negative  \n",
              "3    0.3612   neutral  \n",
              "4    0.4767   neutral  "
            ]
          },
          "execution_count": 65,
          "metadata": {},
          "output_type": "execute_result"
        }
      ],
      "source": [
        "df.head()"
      ]
    },
    {
      "cell_type": "markdown",
      "metadata": {
        "id": "s-PTX7m6gFx9"
      },
      "source": [
        "Removing/dropping the 'neg', 'neu', 'pos', and 'compound' columns."
      ]
    },
    {
      "cell_type": "code",
      "execution_count": null,
      "metadata": {
        "id": "uouVdPBjgH-_"
      },
      "outputs": [],
      "source": [
        "df.drop(['neg','neu','pos','compound'],axis=1,inplace=True)\n",
        "## Dropping the neg, neu, pos, and compound columns."
      ]
    },
    {
      "cell_type": "code",
      "execution_count": null,
      "metadata": {
        "colab": {
          "base_uri": "https://localhost:8080/",
          "height": 423
        },
        "id": "Lc4KrTfcgJ6W",
        "outputId": "b29d251e-dd6f-40c9-c805-d81241c936a1"
      },
      "outputs": [
        {
          "data": {
            "text/html": [
              "\n",
              "  <div id=\"df-80680569-8776-4754-9f58-58a267bcabed\">\n",
              "    <div class=\"colab-df-container\">\n",
              "      <div>\n",
              "<style scoped>\n",
              "    .dataframe tbody tr th:only-of-type {\n",
              "        vertical-align: middle;\n",
              "    }\n",
              "\n",
              "    .dataframe tbody tr th {\n",
              "        vertical-align: top;\n",
              "    }\n",
              "\n",
              "    .dataframe thead th {\n",
              "        text-align: right;\n",
              "    }\n",
              "</style>\n",
              "<table border=\"1\" class=\"dataframe\">\n",
              "  <thead>\n",
              "    <tr style=\"text-align: right;\">\n",
              "      <th></th>\n",
              "      <th>Text</th>\n",
              "      <th>Target</th>\n",
              "    </tr>\n",
              "  </thead>\n",
              "  <tbody>\n",
              "    <tr>\n",
              "      <th>0</th>\n",
              "      <td>now that free speech have finally be restore t...</td>\n",
              "      <td>positive</td>\n",
              "    </tr>\n",
              "    <tr>\n",
              "      <th>1</th>\n",
              "      <td>govabbott let ’ s ing twitter to texas possibl...</td>\n",
              "      <td>negative</td>\n",
              "    </tr>\n",
              "    <tr>\n",
              "      <th>2</th>\n",
              "      <td>mmmm_oranges if elon musk take over twitter ev...</td>\n",
              "      <td>negative</td>\n",
              "    </tr>\n",
              "    <tr>\n",
              "      <th>3</th>\n",
              "      <td>elonmusk now that twitter be yours can i post ...</td>\n",
              "      <td>neutral</td>\n",
              "    </tr>\n",
              "    <tr>\n",
              "      <th>4</th>\n",
              "      <td>derpfighter cenkuygur elonmusk twitter http //...</td>\n",
              "      <td>neutral</td>\n",
              "    </tr>\n",
              "    <tr>\n",
              "      <th>...</th>\n",
              "      <td>...</td>\n",
              "      <td>...</td>\n",
              "    </tr>\n",
              "    <tr>\n",
              "      <th>75534</th>\n",
              "      <td>with elon musk buying twitter i good get my ol...</td>\n",
              "      <td>neutral</td>\n",
              "    </tr>\n",
              "    <tr>\n",
              "      <th>75535</th>\n",
              "      <td>washingtonpost elonmusk elon musk buy twitter ...</td>\n",
              "      <td>positive</td>\n",
              "    </tr>\n",
              "    <tr>\n",
              "      <th>75536</th>\n",
              "      <td>sassyrightwing twitter elonmusk the filter be ...</td>\n",
              "      <td>negative</td>\n",
              "    </tr>\n",
              "    <tr>\n",
              "      <th>75537</th>\n",
              "      <td>rombbb_gaming twitter elonmusk im not sure whi...</td>\n",
              "      <td>positive</td>\n",
              "    </tr>\n",
              "    <tr>\n",
              "      <th>75538</th>\n",
              "      <td>karenjoyjones hawki alastairmca twitter elonmu...</td>\n",
              "      <td>neutral</td>\n",
              "    </tr>\n",
              "  </tbody>\n",
              "</table>\n",
              "<p>75539 rows × 2 columns</p>\n",
              "</div>\n",
              "      <button class=\"colab-df-convert\" onclick=\"convertToInteractive('df-80680569-8776-4754-9f58-58a267bcabed')\"\n",
              "              title=\"Convert this dataframe to an interactive table.\"\n",
              "              style=\"display:none;\">\n",
              "        \n",
              "  <svg xmlns=\"http://www.w3.org/2000/svg\" height=\"24px\"viewBox=\"0 0 24 24\"\n",
              "       width=\"24px\">\n",
              "    <path d=\"M0 0h24v24H0V0z\" fill=\"none\"/>\n",
              "    <path d=\"M18.56 5.44l.94 2.06.94-2.06 2.06-.94-2.06-.94-.94-2.06-.94 2.06-2.06.94zm-11 1L8.5 8.5l.94-2.06 2.06-.94-2.06-.94L8.5 2.5l-.94 2.06-2.06.94zm10 10l.94 2.06.94-2.06 2.06-.94-2.06-.94-.94-2.06-.94 2.06-2.06.94z\"/><path d=\"M17.41 7.96l-1.37-1.37c-.4-.4-.92-.59-1.43-.59-.52 0-1.04.2-1.43.59L10.3 9.45l-7.72 7.72c-.78.78-.78 2.05 0 2.83L4 21.41c.39.39.9.59 1.41.59.51 0 1.02-.2 1.41-.59l7.78-7.78 2.81-2.81c.8-.78.8-2.07 0-2.86zM5.41 20L4 18.59l7.72-7.72 1.47 1.35L5.41 20z\"/>\n",
              "  </svg>\n",
              "      </button>\n",
              "      \n",
              "  <style>\n",
              "    .colab-df-container {\n",
              "      display:flex;\n",
              "      flex-wrap:wrap;\n",
              "      gap: 12px;\n",
              "    }\n",
              "\n",
              "    .colab-df-convert {\n",
              "      background-color: #E8F0FE;\n",
              "      border: none;\n",
              "      border-radius: 50%;\n",
              "      cursor: pointer;\n",
              "      display: none;\n",
              "      fill: #1967D2;\n",
              "      height: 32px;\n",
              "      padding: 0 0 0 0;\n",
              "      width: 32px;\n",
              "    }\n",
              "\n",
              "    .colab-df-convert:hover {\n",
              "      background-color: #E2EBFA;\n",
              "      box-shadow: 0px 1px 2px rgba(60, 64, 67, 0.3), 0px 1px 3px 1px rgba(60, 64, 67, 0.15);\n",
              "      fill: #174EA6;\n",
              "    }\n",
              "\n",
              "    [theme=dark] .colab-df-convert {\n",
              "      background-color: #3B4455;\n",
              "      fill: #D2E3FC;\n",
              "    }\n",
              "\n",
              "    [theme=dark] .colab-df-convert:hover {\n",
              "      background-color: #434B5C;\n",
              "      box-shadow: 0px 1px 3px 1px rgba(0, 0, 0, 0.15);\n",
              "      filter: drop-shadow(0px 1px 2px rgba(0, 0, 0, 0.3));\n",
              "      fill: #FFFFFF;\n",
              "    }\n",
              "  </style>\n",
              "\n",
              "      <script>\n",
              "        const buttonEl =\n",
              "          document.querySelector('#df-80680569-8776-4754-9f58-58a267bcabed button.colab-df-convert');\n",
              "        buttonEl.style.display =\n",
              "          google.colab.kernel.accessAllowed ? 'block' : 'none';\n",
              "\n",
              "        async function convertToInteractive(key) {\n",
              "          const element = document.querySelector('#df-80680569-8776-4754-9f58-58a267bcabed');\n",
              "          const dataTable =\n",
              "            await google.colab.kernel.invokeFunction('convertToInteractive',\n",
              "                                                     [key], {});\n",
              "          if (!dataTable) return;\n",
              "\n",
              "          const docLinkHtml = 'Like what you see? Visit the ' +\n",
              "            '<a target=\"_blank\" href=https://colab.research.google.com/notebooks/data_table.ipynb>data table notebook</a>'\n",
              "            + ' to learn more about interactive tables.';\n",
              "          element.innerHTML = '';\n",
              "          dataTable['output_type'] = 'display_data';\n",
              "          await google.colab.output.renderOutput(dataTable, element);\n",
              "          const docLink = document.createElement('div');\n",
              "          docLink.innerHTML = docLinkHtml;\n",
              "          element.appendChild(docLink);\n",
              "        }\n",
              "      </script>\n",
              "    </div>\n",
              "  </div>\n",
              "  "
            ],
            "text/plain": [
              "                                                    Text    Target\n",
              "0      now that free speech have finally be restore t...  positive\n",
              "1      govabbott let ’ s ing twitter to texas possibl...  negative\n",
              "2      mmmm_oranges if elon musk take over twitter ev...  negative\n",
              "3      elonmusk now that twitter be yours can i post ...   neutral\n",
              "4      derpfighter cenkuygur elonmusk twitter http //...   neutral\n",
              "...                                                  ...       ...\n",
              "75534  with elon musk buying twitter i good get my ol...   neutral\n",
              "75535  washingtonpost elonmusk elon musk buy twitter ...  positive\n",
              "75536  sassyrightwing twitter elonmusk the filter be ...  negative\n",
              "75537  rombbb_gaming twitter elonmusk im not sure whi...  positive\n",
              "75538  karenjoyjones hawki alastairmca twitter elonmu...   neutral\n",
              "\n",
              "[75539 rows x 2 columns]"
            ]
          },
          "execution_count": 67,
          "metadata": {},
          "output_type": "execute_result"
        }
      ],
      "source": [
        "df\n",
        "## Final dataframe with sentiments."
      ]
    },
    {
      "cell_type": "code",
      "execution_count": null,
      "metadata": {
        "colab": {
          "base_uri": "https://localhost:8080/"
        },
        "id": "zApFJ3SBgPS2",
        "outputId": "3e5f6102-925f-441a-f911-b728c6ecac31"
      },
      "outputs": [
        {
          "data": {
            "text/plain": [
              "negative    37155\n",
              "positive    20853\n",
              "neutral     17531\n",
              "Name: Target, dtype: int64"
            ]
          },
          "execution_count": 68,
          "metadata": {},
          "output_type": "execute_result"
        }
      ],
      "source": [
        "df['Target'].value_counts()\n",
        "### There are 20853 positive, 37155 negative and 17531 neutral columns present in the dataset."
      ]
    },
    {
      "cell_type": "code",
      "execution_count": null,
      "metadata": {
        "colab": {
          "base_uri": "https://localhost:8080/"
        },
        "id": "rzpwAOhWgR0I",
        "outputId": "c50061a3-4abe-4eb9-d36b-ef7c8b1e2308"
      },
      "outputs": [
        {
          "data": {
            "text/plain": [
              "Text      object\n",
              "Target     int64\n",
              "dtype: object"
            ]
          },
          "execution_count": 69,
          "metadata": {},
          "output_type": "execute_result"
        }
      ],
      "source": [
        "cat_cols=['Target']\n",
        "le=LabelEncoder()\n",
        "for i in cat_cols:\n",
        "    df[i]=le.fit_transform(df[i])\n",
        "df.dtypes\n",
        "### Label Encoding the target column."
      ]
    },
    {
      "cell_type": "code",
      "execution_count": null,
      "metadata": {
        "colab": {
          "base_uri": "https://localhost:8080/"
        },
        "id": "uTpjETw1gVaX",
        "outputId": "81cc85e6-9541-4b13-bfbb-f82c483d4a2b"
      },
      "outputs": [
        {
          "data": {
            "text/plain": [
              "0    37155\n",
              "2    20853\n",
              "1    17531\n",
              "Name: Target, dtype: int64"
            ]
          },
          "execution_count": 70,
          "metadata": {},
          "output_type": "execute_result"
        }
      ],
      "source": [
        "df['Target'].value_counts()\n",
        "## Label encoded value_counts()"
      ]
    },
    {
      "cell_type": "code",
      "execution_count": null,
      "metadata": {
        "colab": {
          "base_uri": "https://localhost:8080/",
          "height": 423
        },
        "id": "9PNMccA-gXQ_",
        "outputId": "14b7ab1b-3192-402b-d315-a9996c8cc4b9"
      },
      "outputs": [
        {
          "data": {
            "text/html": [
              "\n",
              "  <div id=\"df-24f89f89-7aa4-4604-947d-d008da6cc12f\">\n",
              "    <div class=\"colab-df-container\">\n",
              "      <div>\n",
              "<style scoped>\n",
              "    .dataframe tbody tr th:only-of-type {\n",
              "        vertical-align: middle;\n",
              "    }\n",
              "\n",
              "    .dataframe tbody tr th {\n",
              "        vertical-align: top;\n",
              "    }\n",
              "\n",
              "    .dataframe thead th {\n",
              "        text-align: right;\n",
              "    }\n",
              "</style>\n",
              "<table border=\"1\" class=\"dataframe\">\n",
              "  <thead>\n",
              "    <tr style=\"text-align: right;\">\n",
              "      <th></th>\n",
              "      <th>Text</th>\n",
              "      <th>Target</th>\n",
              "    </tr>\n",
              "  </thead>\n",
              "  <tbody>\n",
              "    <tr>\n",
              "      <th>0</th>\n",
              "      <td>now that free speech have finally be restore t...</td>\n",
              "      <td>2</td>\n",
              "    </tr>\n",
              "    <tr>\n",
              "      <th>1</th>\n",
              "      <td>govabbott let ’ s ing twitter to texas possibl...</td>\n",
              "      <td>0</td>\n",
              "    </tr>\n",
              "    <tr>\n",
              "      <th>2</th>\n",
              "      <td>mmmm_oranges if elon musk take over twitter ev...</td>\n",
              "      <td>0</td>\n",
              "    </tr>\n",
              "    <tr>\n",
              "      <th>3</th>\n",
              "      <td>elonmusk now that twitter be yours can i post ...</td>\n",
              "      <td>1</td>\n",
              "    </tr>\n",
              "    <tr>\n",
              "      <th>4</th>\n",
              "      <td>derpfighter cenkuygur elonmusk twitter http //...</td>\n",
              "      <td>1</td>\n",
              "    </tr>\n",
              "    <tr>\n",
              "      <th>...</th>\n",
              "      <td>...</td>\n",
              "      <td>...</td>\n",
              "    </tr>\n",
              "    <tr>\n",
              "      <th>75534</th>\n",
              "      <td>with elon musk buying twitter i good get my ol...</td>\n",
              "      <td>1</td>\n",
              "    </tr>\n",
              "    <tr>\n",
              "      <th>75535</th>\n",
              "      <td>washingtonpost elonmusk elon musk buy twitter ...</td>\n",
              "      <td>2</td>\n",
              "    </tr>\n",
              "    <tr>\n",
              "      <th>75536</th>\n",
              "      <td>sassyrightwing twitter elonmusk the filter be ...</td>\n",
              "      <td>0</td>\n",
              "    </tr>\n",
              "    <tr>\n",
              "      <th>75537</th>\n",
              "      <td>rombbb_gaming twitter elonmusk im not sure whi...</td>\n",
              "      <td>2</td>\n",
              "    </tr>\n",
              "    <tr>\n",
              "      <th>75538</th>\n",
              "      <td>karenjoyjones hawki alastairmca twitter elonmu...</td>\n",
              "      <td>1</td>\n",
              "    </tr>\n",
              "  </tbody>\n",
              "</table>\n",
              "<p>75539 rows × 2 columns</p>\n",
              "</div>\n",
              "      <button class=\"colab-df-convert\" onclick=\"convertToInteractive('df-24f89f89-7aa4-4604-947d-d008da6cc12f')\"\n",
              "              title=\"Convert this dataframe to an interactive table.\"\n",
              "              style=\"display:none;\">\n",
              "        \n",
              "  <svg xmlns=\"http://www.w3.org/2000/svg\" height=\"24px\"viewBox=\"0 0 24 24\"\n",
              "       width=\"24px\">\n",
              "    <path d=\"M0 0h24v24H0V0z\" fill=\"none\"/>\n",
              "    <path d=\"M18.56 5.44l.94 2.06.94-2.06 2.06-.94-2.06-.94-.94-2.06-.94 2.06-2.06.94zm-11 1L8.5 8.5l.94-2.06 2.06-.94-2.06-.94L8.5 2.5l-.94 2.06-2.06.94zm10 10l.94 2.06.94-2.06 2.06-.94-2.06-.94-.94-2.06-.94 2.06-2.06.94z\"/><path d=\"M17.41 7.96l-1.37-1.37c-.4-.4-.92-.59-1.43-.59-.52 0-1.04.2-1.43.59L10.3 9.45l-7.72 7.72c-.78.78-.78 2.05 0 2.83L4 21.41c.39.39.9.59 1.41.59.51 0 1.02-.2 1.41-.59l7.78-7.78 2.81-2.81c.8-.78.8-2.07 0-2.86zM5.41 20L4 18.59l7.72-7.72 1.47 1.35L5.41 20z\"/>\n",
              "  </svg>\n",
              "      </button>\n",
              "      \n",
              "  <style>\n",
              "    .colab-df-container {\n",
              "      display:flex;\n",
              "      flex-wrap:wrap;\n",
              "      gap: 12px;\n",
              "    }\n",
              "\n",
              "    .colab-df-convert {\n",
              "      background-color: #E8F0FE;\n",
              "      border: none;\n",
              "      border-radius: 50%;\n",
              "      cursor: pointer;\n",
              "      display: none;\n",
              "      fill: #1967D2;\n",
              "      height: 32px;\n",
              "      padding: 0 0 0 0;\n",
              "      width: 32px;\n",
              "    }\n",
              "\n",
              "    .colab-df-convert:hover {\n",
              "      background-color: #E2EBFA;\n",
              "      box-shadow: 0px 1px 2px rgba(60, 64, 67, 0.3), 0px 1px 3px 1px rgba(60, 64, 67, 0.15);\n",
              "      fill: #174EA6;\n",
              "    }\n",
              "\n",
              "    [theme=dark] .colab-df-convert {\n",
              "      background-color: #3B4455;\n",
              "      fill: #D2E3FC;\n",
              "    }\n",
              "\n",
              "    [theme=dark] .colab-df-convert:hover {\n",
              "      background-color: #434B5C;\n",
              "      box-shadow: 0px 1px 3px 1px rgba(0, 0, 0, 0.15);\n",
              "      filter: drop-shadow(0px 1px 2px rgba(0, 0, 0, 0.3));\n",
              "      fill: #FFFFFF;\n",
              "    }\n",
              "  </style>\n",
              "\n",
              "      <script>\n",
              "        const buttonEl =\n",
              "          document.querySelector('#df-24f89f89-7aa4-4604-947d-d008da6cc12f button.colab-df-convert');\n",
              "        buttonEl.style.display =\n",
              "          google.colab.kernel.accessAllowed ? 'block' : 'none';\n",
              "\n",
              "        async function convertToInteractive(key) {\n",
              "          const element = document.querySelector('#df-24f89f89-7aa4-4604-947d-d008da6cc12f');\n",
              "          const dataTable =\n",
              "            await google.colab.kernel.invokeFunction('convertToInteractive',\n",
              "                                                     [key], {});\n",
              "          if (!dataTable) return;\n",
              "\n",
              "          const docLinkHtml = 'Like what you see? Visit the ' +\n",
              "            '<a target=\"_blank\" href=https://colab.research.google.com/notebooks/data_table.ipynb>data table notebook</a>'\n",
              "            + ' to learn more about interactive tables.';\n",
              "          element.innerHTML = '';\n",
              "          dataTable['output_type'] = 'display_data';\n",
              "          await google.colab.output.renderOutput(dataTable, element);\n",
              "          const docLink = document.createElement('div');\n",
              "          docLink.innerHTML = docLinkHtml;\n",
              "          element.appendChild(docLink);\n",
              "        }\n",
              "      </script>\n",
              "    </div>\n",
              "  </div>\n",
              "  "
            ],
            "text/plain": [
              "                                                    Text  Target\n",
              "0      now that free speech have finally be restore t...       2\n",
              "1      govabbott let ’ s ing twitter to texas possibl...       0\n",
              "2      mmmm_oranges if elon musk take over twitter ev...       0\n",
              "3      elonmusk now that twitter be yours can i post ...       1\n",
              "4      derpfighter cenkuygur elonmusk twitter http //...       1\n",
              "...                                                  ...     ...\n",
              "75534  with elon musk buying twitter i good get my ol...       1\n",
              "75535  washingtonpost elonmusk elon musk buy twitter ...       2\n",
              "75536  sassyrightwing twitter elonmusk the filter be ...       0\n",
              "75537  rombbb_gaming twitter elonmusk im not sure whi...       2\n",
              "75538  karenjoyjones hawki alastairmca twitter elonmu...       1\n",
              "\n",
              "[75539 rows x 2 columns]"
            ]
          },
          "execution_count": 71,
          "metadata": {},
          "output_type": "execute_result"
        }
      ],
      "source": [
        "df"
      ]
    },
    {
      "cell_type": "code",
      "execution_count": null,
      "metadata": {
        "id": "X_WdZPVjgcUy"
      },
      "outputs": [],
      "source": [
        "# Vectorizing training data. \n",
        "tfidf = TfidfVectorizer() \n",
        "X = tfidf.fit_transform(df['Text'])\n",
        "Y = df['Target']\n",
        "## Applying Tf-Idf vectorizer on the Text column."
      ]
    },
    {
      "cell_type": "code",
      "execution_count": null,
      "metadata": {
        "colab": {
          "base_uri": "https://localhost:8080/"
        },
        "id": "Ff9_quUmgeVe",
        "outputId": "e038c9b1-7796-4629-9dca-d335372d0fbe"
      },
      "outputs": [
        {
          "name": "stdout",
          "output_type": "stream",
          "text": [
            "(60431, 70202) (15108, 70202) (60431,) (15108,)\n"
          ]
        }
      ],
      "source": [
        "X_train,X_test,Y_train,Y_test=train_test_split(X,Y,test_size=0.2,random_state=40)\n",
        "print(X_train.shape,X_test.shape,Y_train.shape,Y_test.shape)\n",
        "### Splitting the dataset."
      ]
    },
    {
      "cell_type": "markdown",
      "metadata": {
        "id": "-_LJ1htJgmy3"
      },
      "source": [
        "# Logistic Regression"
      ]
    },
    {
      "cell_type": "code",
      "execution_count": null,
      "metadata": {
        "colab": {
          "base_uri": "https://localhost:8080/"
        },
        "id": "0CweID58gfqW",
        "outputId": "ed0e0d8a-d79a-4a1e-f184-7ea9c47a43b9"
      },
      "outputs": [
        {
          "name": "stdout",
          "output_type": "stream",
          "text": [
            "Model accuracy on train is:  0.832933428207377\n",
            "Model accuracy on test is:  0.757280910775748\n"
          ]
        }
      ],
      "source": [
        "log_reg = LogisticRegression().fit(X_train, Y_train)\n",
        "\n",
        "#predict on train \n",
        "train_preds = log_reg.predict(X_train)\n",
        "#accuracy on train\n",
        "print(\"Model accuracy on train is: \", accuracy_score(Y_train, train_preds))\n",
        "\n",
        "#predict on test\n",
        "test_preds = log_reg.predict(X_test)\n",
        "#accuracy on test\n",
        "print(\"Model accuracy on test is: \", accuracy_score(Y_test, test_preds))"
      ]
    },
    {
      "cell_type": "code",
      "execution_count": null,
      "metadata": {
        "id": "iSzLymAkg2AE"
      },
      "outputs": [],
      "source": [
        "from sklearn.tree import DecisionTreeClassifier\n",
        "from sklearn.ensemble import RandomForestClassifier\n",
        "from sklearn.neighbors import KNeighborsClassifier\n",
        "from sklearn.svm import SVC\n",
        "from sklearn import metrics\n",
        "from sklearn.metrics import accuracy_score, auc, confusion_matrix, roc_auc_score, roc_curve, recall_score"
      ]
    },
    {
      "cell_type": "markdown",
      "metadata": {
        "id": "WIudbNvSg5MM"
      },
      "source": [
        "# Decision Tree Classifier"
      ]
    },
    {
      "cell_type": "code",
      "execution_count": null,
      "metadata": {
        "id": "lPm_yt_Bg-Ju"
      },
      "outputs": [],
      "source": [
        "DT = DecisionTreeClassifier().fit(X,Y)"
      ]
    },
    {
      "cell_type": "code",
      "execution_count": null,
      "metadata": {
        "colab": {
          "base_uri": "https://localhost:8080/"
        },
        "id": "h5wzu_Dxg_R1",
        "outputId": "6b571c04-7bb3-4418-f5da-e54a8cdb583b"
      },
      "outputs": [
        {
          "name": "stdout",
          "output_type": "stream",
          "text": [
            "Model accuracy on train is:  0.9995532094454833\n",
            "Model accuracy on test is:  0.9994704792163093\n",
            "--------------------------------------------------\n",
            "confusion_matrix train is:  [[29735     0     0]\n",
            " [    9 13986     0]\n",
            " [    6    12 16683]]\n",
            "confusion_matrix test is:  [[7420    0    0]\n",
            " [   1 3535    0]\n",
            " [   2    5 4145]]\n",
            "Wrong predictions out of total\n",
            "--------------------------------------------------\n",
            "8 / 15108\n",
            "--------------------------------------------------\n",
            "KappaScore is:  0.9991574222978195\n"
          ]
        }
      ],
      "source": [
        "#predict on train \n",
        "train_preds2 = DT.predict(X_train)\n",
        "#accuracy on train\n",
        "print(\"Model accuracy on train is: \", accuracy_score(Y_train, train_preds2))\n",
        "\n",
        "#predict on test\n",
        "test_preds2 = DT.predict(X_test)\n",
        "#accuracy on test\n",
        "print(\"Model accuracy on test is: \", accuracy_score(Y_test, test_preds2))\n",
        "print('-'*50)\n",
        "\n",
        "#Confusion matrix\n",
        "print(\"confusion_matrix train is: \", confusion_matrix(Y_train, train_preds2))\n",
        "print(\"confusion_matrix test is: \", confusion_matrix(Y_test, test_preds2))\n",
        "print('Wrong predictions out of total')\n",
        "print('-'*50)\n",
        "\n",
        "# Wrong Predictions made.\n",
        "print((Y_test !=test_preds2).sum(),'/',((Y_test == test_preds2).sum()+(Y_test != test_preds2).sum()))\n",
        "print('-'*50)\n",
        "\n",
        "# Kappa Score\n",
        "print('KappaScore is: ', metrics.cohen_kappa_score(Y_test,test_preds2))"
      ]
    },
    {
      "cell_type": "code",
      "execution_count": null,
      "metadata": {
        "colab": {
          "base_uri": "https://localhost:8080/"
        },
        "id": "_wvchnxjhG4e",
        "outputId": "a7cec301-e901-4a3e-d466-eb752b21ee6c"
      },
      "outputs": [
        {
          "name": "stdout",
          "output_type": "stream",
          "text": [
            "Model accuracy on train is:  0.999619400638745\n",
            "Model accuracy on test is:  0.6894360603653693\n",
            "--------------------------------------------------\n",
            "confusion_matrix train is:  [[29733     2     0]\n",
            " [    5 13987     3]\n",
            " [    5     8 16688]]\n",
            "confusion_matrix test is:  [[7041   73  306]\n",
            " [2291  737  508]\n",
            " [1268  246 2638]]\n",
            "Wrong predictions out of total\n",
            "--------------------------------------------------\n",
            "4692 / 15108\n",
            "--------------------------------------------------\n"
          ]
        }
      ],
      "source": [
        "#fit the model on train data \n",
        "RF=RandomForestClassifier().fit(X_train,Y_train)\n",
        "#predict on train \n",
        "train_preds3 = RF.predict(X_train)\n",
        "#accuracy on train\n",
        "print(\"Model accuracy on train is: \", accuracy_score(Y_train, train_preds3))\n",
        "\n",
        "#predict on test\n",
        "test_preds3 = RF.predict(X_test)\n",
        "#accuracy on test\n",
        "print(\"Model accuracy on test is: \", accuracy_score(Y_test, test_preds3))\n",
        "print('-'*50)\n",
        "\n",
        "#Confusion matrix\n",
        "print(\"confusion_matrix train is: \", confusion_matrix(Y_train, train_preds3))\n",
        "print(\"confusion_matrix test is: \", confusion_matrix(Y_test, test_preds3))\n",
        "print('Wrong predictions out of total')\n",
        "print('-'*50)\n",
        "\n",
        "# Wrong Predictions made.\n",
        "print((Y_test !=test_preds3).sum(),'/',((Y_test == test_preds3).sum()+(Y_test != test_preds3).sum()))\n",
        "print('-'*50)"
      ]
    },
    {
      "cell_type": "code",
      "execution_count": null,
      "metadata": {
        "colab": {
          "base_uri": "https://localhost:8080/"
        },
        "id": "GhlZIjwxhMfh",
        "outputId": "5e138f55-7a8e-4205-cc49-dccc5ae32cb4"
      },
      "outputs": [
        {
          "name": "stdout",
          "output_type": "stream",
          "text": [
            "Model accuracy on train is:  0.6922605947278715\n",
            "Model accuracy on test is:  0.5873709293089754\n",
            "--------------------------------------------------\n",
            "confusion_matrix train is:  [[27687  1244   804]\n",
            " [ 7158  5964   873]\n",
            " [ 6289  2229  8183]]\n",
            "confusion_matrix test is:  [[6367  668  385]\n",
            " [2224  960  352]\n",
            " [1901  704 1547]]\n",
            "Wrong predictions out of total\n",
            "--------------------------------------------------\n",
            "6234 / 15108\n",
            "--------------------------------------------------\n"
          ]
        }
      ],
      "source": [
        "#fit the model on train data \n",
        "KNN = KNeighborsClassifier().fit(X_train,Y_train)\n",
        "#predict on train \n",
        "train_preds4 = KNN.predict(X_train)\n",
        "#accuracy on train\n",
        "print(\"Model accuracy on train is: \", accuracy_score(Y_train, train_preds4))\n",
        "\n",
        "#predict on test\n",
        "test_preds4 = KNN.predict(X_test)\n",
        "#accuracy on test\n",
        "print(\"Model accuracy on test is: \", accuracy_score(Y_test, test_preds4))\n",
        "print('-'*50)\n",
        "\n",
        "#Confusion matrix\n",
        "print(\"confusion_matrix train is: \", confusion_matrix(Y_train, train_preds4))\n",
        "print(\"confusion_matrix test is: \", confusion_matrix(Y_test, test_preds4))\n",
        "print('Wrong predictions out of total')\n",
        "print('-'*50)\n",
        "\n",
        "# Wrong Predictions made.\n",
        "print((Y_test !=test_preds4).sum(),'/',((Y_test == test_preds4).sum()+(Y_test != test_preds4).sum()))\n",
        "print('-'*50)"
      ]
    },
    {
      "cell_type": "markdown",
      "metadata": {
        "id": "9CRsMOXLhPMP"
      },
      "source": [
        "# Support Vector Machine"
      ]
    },
    {
      "cell_type": "code",
      "execution_count": null,
      "metadata": {
        "colab": {
          "base_uri": "https://localhost:8080/"
        },
        "id": "mKgjIEc6hQmv",
        "outputId": "3ab7bf64-4e10-4c6f-b4b2-7f692bb7e023"
      },
      "outputs": [
        {
          "name": "stdout",
          "output_type": "stream",
          "text": [
            "Model accuracy on train is:  0.8686270291737684\n",
            "Model accuracy on test is:  0.7839555202541699\n",
            "--------------------------------------------------\n",
            "confusion_matrix train is:  [[28445   779   511]\n",
            " [ 2793  9801  1401]\n",
            " [ 1317  1138 14246]]\n",
            "confusion_matrix test is:  [[6868  361  191]\n",
            " [1126 1877  533]\n",
            " [ 447  606 3099]]\n",
            "Wrong predictions out of total\n",
            "--------------------------------------------------\n",
            "3264 / 15108\n",
            "--------------------------------------------------\n"
          ]
        }
      ],
      "source": [
        "#fit the model on train data \n",
        "SVM = SVC(kernel='linear')\n",
        "SVM.fit(X_train, Y_train)\n",
        "\n",
        "#predict on train \n",
        "train_preds5 = SVM.predict(X_train)\n",
        "#accuracy on train\n",
        "print(\"Model accuracy on train is: \", accuracy_score(Y_train, train_preds5))\n",
        "\n",
        "#predict on test\n",
        "test_preds5 = SVM.predict(X_test)\n",
        "#accuracy on test\n",
        "print(\"Model accuracy on test is: \", accuracy_score(Y_test, test_preds5))\n",
        "print('-'*50)\n",
        "\n",
        "#Confusion matrix\n",
        "print(\"confusion_matrix train is: \", confusion_matrix(Y_train, train_preds5))\n",
        "print(\"confusion_matrix test is: \", confusion_matrix(Y_test, test_preds5))\n",
        "print('Wrong predictions out of total')\n",
        "print('-'*50)\n",
        "\n",
        "# Wrong Predictions made.\n",
        "print((Y_test !=test_preds5).sum(),'/',((Y_test == test_preds5).sum()+(Y_test != test_preds5).sum()))\n",
        "print('-'*50)"
      ]
    }
  ],
  "metadata": {
    "accelerator": "GPU",
    "colab": {
      "collapsed_sections": [],
      "machine_shape": "hm",
      "name": "Colab_Notebook.ipynb",
      "provenance": []
    },
    "kernelspec": {
      "display_name": "Python 3 (ipykernel)",
      "language": "python",
      "name": "python3"
    },
    "language_info": {
      "codemirror_mode": {
        "name": "ipython",
        "version": 3
      },
      "file_extension": ".py",
      "mimetype": "text/x-python",
      "name": "python",
      "nbconvert_exporter": "python",
      "pygments_lexer": "ipython3",
      "version": "3.9.7"
    },
    "widgets": {
      "application/vnd.jupyter.widget-state+json": {
        "1c809da4850a4fc788cb392197ba264d": {
          "model_module": "@jupyter-widgets/controls",
          "model_module_version": "1.5.0",
          "model_name": "HTMLModel",
          "state": {
            "_dom_classes": [],
            "_model_module": "@jupyter-widgets/controls",
            "_model_module_version": "1.5.0",
            "_model_name": "HTMLModel",
            "_view_count": null,
            "_view_module": "@jupyter-widgets/controls",
            "_view_module_version": "1.5.0",
            "_view_name": "HTMLView",
            "description": "",
            "description_tooltip": null,
            "layout": "IPY_MODEL_23195355da2243ca8bc94e7c21fb7f0d",
            "placeholder": "​",
            "style": "IPY_MODEL_cb91a4c8c43d443aa00c1b6ee7a73695",
            "value": "Pandas Apply: 100%"
          }
        },
        "23195355da2243ca8bc94e7c21fb7f0d": {
          "model_module": "@jupyter-widgets/base",
          "model_module_version": "1.2.0",
          "model_name": "LayoutModel",
          "state": {
            "_model_module": "@jupyter-widgets/base",
            "_model_module_version": "1.2.0",
            "_model_name": "LayoutModel",
            "_view_count": null,
            "_view_module": "@jupyter-widgets/base",
            "_view_module_version": "1.2.0",
            "_view_name": "LayoutView",
            "align_content": null,
            "align_items": null,
            "align_self": null,
            "border": null,
            "bottom": null,
            "display": null,
            "flex": null,
            "flex_flow": null,
            "grid_area": null,
            "grid_auto_columns": null,
            "grid_auto_flow": null,
            "grid_auto_rows": null,
            "grid_column": null,
            "grid_gap": null,
            "grid_row": null,
            "grid_template_areas": null,
            "grid_template_columns": null,
            "grid_template_rows": null,
            "height": null,
            "justify_content": null,
            "justify_items": null,
            "left": null,
            "margin": null,
            "max_height": null,
            "max_width": null,
            "min_height": null,
            "min_width": null,
            "object_fit": null,
            "object_position": null,
            "order": null,
            "overflow": null,
            "overflow_x": null,
            "overflow_y": null,
            "padding": null,
            "right": null,
            "top": null,
            "visibility": null,
            "width": null
          }
        },
        "4456bd33b4fc4fe7a6d69437e7e68b7c": {
          "model_module": "@jupyter-widgets/controls",
          "model_module_version": "1.5.0",
          "model_name": "HBoxModel",
          "state": {
            "_dom_classes": [],
            "_model_module": "@jupyter-widgets/controls",
            "_model_module_version": "1.5.0",
            "_model_name": "HBoxModel",
            "_view_count": null,
            "_view_module": "@jupyter-widgets/controls",
            "_view_module_version": "1.5.0",
            "_view_name": "HBoxView",
            "box_style": "",
            "children": [
              "IPY_MODEL_1c809da4850a4fc788cb392197ba264d",
              "IPY_MODEL_bd9179abb9834135aba70f4025082d9e",
              "IPY_MODEL_ada5fb85f1f346daab9b81cb7ee1a013"
            ],
            "layout": "IPY_MODEL_c4fc0a0fe4164e51b354142a5367ef20"
          }
        },
        "4db6874c435f43468c90863a66fa83fe": {
          "model_module": "@jupyter-widgets/base",
          "model_module_version": "1.2.0",
          "model_name": "LayoutModel",
          "state": {
            "_model_module": "@jupyter-widgets/base",
            "_model_module_version": "1.2.0",
            "_model_name": "LayoutModel",
            "_view_count": null,
            "_view_module": "@jupyter-widgets/base",
            "_view_module_version": "1.2.0",
            "_view_name": "LayoutView",
            "align_content": null,
            "align_items": null,
            "align_self": null,
            "border": null,
            "bottom": null,
            "display": null,
            "flex": null,
            "flex_flow": null,
            "grid_area": null,
            "grid_auto_columns": null,
            "grid_auto_flow": null,
            "grid_auto_rows": null,
            "grid_column": null,
            "grid_gap": null,
            "grid_row": null,
            "grid_template_areas": null,
            "grid_template_columns": null,
            "grid_template_rows": null,
            "height": null,
            "justify_content": null,
            "justify_items": null,
            "left": null,
            "margin": null,
            "max_height": null,
            "max_width": null,
            "min_height": null,
            "min_width": null,
            "object_fit": null,
            "object_position": null,
            "order": null,
            "overflow": null,
            "overflow_x": null,
            "overflow_y": null,
            "padding": null,
            "right": null,
            "top": null,
            "visibility": null,
            "width": null
          }
        },
        "8420c84752d84f06b8d50a60828152c5": {
          "model_module": "@jupyter-widgets/controls",
          "model_module_version": "1.5.0",
          "model_name": "DescriptionStyleModel",
          "state": {
            "_model_module": "@jupyter-widgets/controls",
            "_model_module_version": "1.5.0",
            "_model_name": "DescriptionStyleModel",
            "_view_count": null,
            "_view_module": "@jupyter-widgets/base",
            "_view_module_version": "1.2.0",
            "_view_name": "StyleView",
            "description_width": ""
          }
        },
        "ada5fb85f1f346daab9b81cb7ee1a013": {
          "model_module": "@jupyter-widgets/controls",
          "model_module_version": "1.5.0",
          "model_name": "HTMLModel",
          "state": {
            "_dom_classes": [],
            "_model_module": "@jupyter-widgets/controls",
            "_model_module_version": "1.5.0",
            "_model_name": "HTMLModel",
            "_view_count": null,
            "_view_module": "@jupyter-widgets/controls",
            "_view_module_version": "1.5.0",
            "_view_name": "HTMLView",
            "description": "",
            "description_tooltip": null,
            "layout": "IPY_MODEL_e7d1f9d6d4434f9cb8bc310b97c688a5",
            "placeholder": "​",
            "style": "IPY_MODEL_8420c84752d84f06b8d50a60828152c5",
            "value": " 75539/75539 [00:16&lt;00:00, 4704.38it/s]"
          }
        },
        "bd9179abb9834135aba70f4025082d9e": {
          "model_module": "@jupyter-widgets/controls",
          "model_module_version": "1.5.0",
          "model_name": "FloatProgressModel",
          "state": {
            "_dom_classes": [],
            "_model_module": "@jupyter-widgets/controls",
            "_model_module_version": "1.5.0",
            "_model_name": "FloatProgressModel",
            "_view_count": null,
            "_view_module": "@jupyter-widgets/controls",
            "_view_module_version": "1.5.0",
            "_view_name": "ProgressView",
            "bar_style": "success",
            "description": "",
            "description_tooltip": null,
            "layout": "IPY_MODEL_4db6874c435f43468c90863a66fa83fe",
            "max": 75539,
            "min": 0,
            "orientation": "horizontal",
            "style": "IPY_MODEL_f277660c2a9a401cbef27ad0a39cdba2",
            "value": 75539
          }
        },
        "c4fc0a0fe4164e51b354142a5367ef20": {
          "model_module": "@jupyter-widgets/base",
          "model_module_version": "1.2.0",
          "model_name": "LayoutModel",
          "state": {
            "_model_module": "@jupyter-widgets/base",
            "_model_module_version": "1.2.0",
            "_model_name": "LayoutModel",
            "_view_count": null,
            "_view_module": "@jupyter-widgets/base",
            "_view_module_version": "1.2.0",
            "_view_name": "LayoutView",
            "align_content": null,
            "align_items": null,
            "align_self": null,
            "border": null,
            "bottom": null,
            "display": null,
            "flex": null,
            "flex_flow": null,
            "grid_area": null,
            "grid_auto_columns": null,
            "grid_auto_flow": null,
            "grid_auto_rows": null,
            "grid_column": null,
            "grid_gap": null,
            "grid_row": null,
            "grid_template_areas": null,
            "grid_template_columns": null,
            "grid_template_rows": null,
            "height": null,
            "justify_content": null,
            "justify_items": null,
            "left": null,
            "margin": null,
            "max_height": null,
            "max_width": null,
            "min_height": null,
            "min_width": null,
            "object_fit": null,
            "object_position": null,
            "order": null,
            "overflow": null,
            "overflow_x": null,
            "overflow_y": null,
            "padding": null,
            "right": null,
            "top": null,
            "visibility": null,
            "width": null
          }
        },
        "cb91a4c8c43d443aa00c1b6ee7a73695": {
          "model_module": "@jupyter-widgets/controls",
          "model_module_version": "1.5.0",
          "model_name": "DescriptionStyleModel",
          "state": {
            "_model_module": "@jupyter-widgets/controls",
            "_model_module_version": "1.5.0",
            "_model_name": "DescriptionStyleModel",
            "_view_count": null,
            "_view_module": "@jupyter-widgets/base",
            "_view_module_version": "1.2.0",
            "_view_name": "StyleView",
            "description_width": ""
          }
        },
        "e7d1f9d6d4434f9cb8bc310b97c688a5": {
          "model_module": "@jupyter-widgets/base",
          "model_module_version": "1.2.0",
          "model_name": "LayoutModel",
          "state": {
            "_model_module": "@jupyter-widgets/base",
            "_model_module_version": "1.2.0",
            "_model_name": "LayoutModel",
            "_view_count": null,
            "_view_module": "@jupyter-widgets/base",
            "_view_module_version": "1.2.0",
            "_view_name": "LayoutView",
            "align_content": null,
            "align_items": null,
            "align_self": null,
            "border": null,
            "bottom": null,
            "display": null,
            "flex": null,
            "flex_flow": null,
            "grid_area": null,
            "grid_auto_columns": null,
            "grid_auto_flow": null,
            "grid_auto_rows": null,
            "grid_column": null,
            "grid_gap": null,
            "grid_row": null,
            "grid_template_areas": null,
            "grid_template_columns": null,
            "grid_template_rows": null,
            "height": null,
            "justify_content": null,
            "justify_items": null,
            "left": null,
            "margin": null,
            "max_height": null,
            "max_width": null,
            "min_height": null,
            "min_width": null,
            "object_fit": null,
            "object_position": null,
            "order": null,
            "overflow": null,
            "overflow_x": null,
            "overflow_y": null,
            "padding": null,
            "right": null,
            "top": null,
            "visibility": null,
            "width": null
          }
        },
        "f277660c2a9a401cbef27ad0a39cdba2": {
          "model_module": "@jupyter-widgets/controls",
          "model_module_version": "1.5.0",
          "model_name": "ProgressStyleModel",
          "state": {
            "_model_module": "@jupyter-widgets/controls",
            "_model_module_version": "1.5.0",
            "_model_name": "ProgressStyleModel",
            "_view_count": null,
            "_view_module": "@jupyter-widgets/base",
            "_view_module_version": "1.2.0",
            "_view_name": "StyleView",
            "bar_color": null,
            "description_width": ""
          }
        }
      }
    }
  },
  "nbformat": 4,
  "nbformat_minor": 0
}